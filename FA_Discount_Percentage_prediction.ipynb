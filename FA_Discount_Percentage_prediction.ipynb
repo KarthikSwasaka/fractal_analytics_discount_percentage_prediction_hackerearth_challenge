{
 "cells": [
  {
   "cell_type": "code",
   "execution_count": 1,
   "id": "32366474",
   "metadata": {},
   "outputs": [],
   "source": [
    "import pandas as pd\n",
    "import numpy as np\n",
    "import matplotlib.pyplot as plt\n",
    "import seaborn as sns"
   ]
  },
  {
   "cell_type": "code",
   "execution_count": 2,
   "id": "8219a6c3",
   "metadata": {},
   "outputs": [],
   "source": [
    "df = pd.read_csv('/Users/karthik_swasaka/Downloads/dataset 4/train.csv')"
   ]
  },
  {
   "cell_type": "code",
   "execution_count": 3,
   "id": "bc19f72e",
   "metadata": {},
   "outputs": [
    {
     "data": {
      "text/html": [
       "<div>\n",
       "<style scoped>\n",
       "    .dataframe tbody tr th:only-of-type {\n",
       "        vertical-align: middle;\n",
       "    }\n",
       "\n",
       "    .dataframe tbody tr th {\n",
       "        vertical-align: top;\n",
       "    }\n",
       "\n",
       "    .dataframe thead th {\n",
       "        text-align: right;\n",
       "    }\n",
       "</style>\n",
       "<table border=\"1\" class=\"dataframe\">\n",
       "  <thead>\n",
       "    <tr style=\"text-align: right;\">\n",
       "      <th></th>\n",
       "      <th>Customer_ID</th>\n",
       "      <th>No_of_orders_placed</th>\n",
       "      <th>Category_of_customers</th>\n",
       "      <th>Maximum_bill</th>\n",
       "      <th>Minimum_bill</th>\n",
       "      <th>Last_order_placed_date</th>\n",
       "      <th>No_of_issues_raised</th>\n",
       "      <th>Customer_rating</th>\n",
       "      <th>Average_food_rating</th>\n",
       "      <th>Average_happiness_rating</th>\n",
       "      <th>Coupon_consumption_status</th>\n",
       "      <th>Coupons_offered</th>\n",
       "      <th>Premium_membership</th>\n",
       "      <th>Discount_percentage</th>\n",
       "    </tr>\n",
       "  </thead>\n",
       "  <tbody>\n",
       "    <tr>\n",
       "      <th>0</th>\n",
       "      <td>CUS0x4c0d</td>\n",
       "      <td>99.0</td>\n",
       "      <td>Inactive</td>\n",
       "      <td>1549.05</td>\n",
       "      <td>79.00</td>\n",
       "      <td>05/31/2015 08:40 PM</td>\n",
       "      <td>NaN</td>\n",
       "      <td>3.0</td>\n",
       "      <td>4.0</td>\n",
       "      <td>3</td>\n",
       "      <td>99.0</td>\n",
       "      <td>119</td>\n",
       "      <td>No</td>\n",
       "      <td>33.0</td>\n",
       "    </tr>\n",
       "    <tr>\n",
       "      <th>1</th>\n",
       "      <td>CUS0x7d45</td>\n",
       "      <td>5.0</td>\n",
       "      <td>Inactive</td>\n",
       "      <td>3682.21</td>\n",
       "      <td>124.69</td>\n",
       "      <td>06/29/2015 11:15 PM</td>\n",
       "      <td>5.0</td>\n",
       "      <td>4.0</td>\n",
       "      <td>4.0</td>\n",
       "      <td>4</td>\n",
       "      <td>5.0</td>\n",
       "      <td>18</td>\n",
       "      <td>No</td>\n",
       "      <td>31.0</td>\n",
       "    </tr>\n",
       "    <tr>\n",
       "      <th>2</th>\n",
       "      <td>CUS0x68c1</td>\n",
       "      <td>181.0</td>\n",
       "      <td>Inactive</td>\n",
       "      <td>729.08</td>\n",
       "      <td>297.79</td>\n",
       "      <td>04/29/2016 06:43 AM</td>\n",
       "      <td>44.0</td>\n",
       "      <td>4.0</td>\n",
       "      <td>3.0</td>\n",
       "      <td>4</td>\n",
       "      <td>152.0</td>\n",
       "      <td>245</td>\n",
       "      <td>No</td>\n",
       "      <td>43.0</td>\n",
       "    </tr>\n",
       "    <tr>\n",
       "      <th>3</th>\n",
       "      <td>CUS0x1c6e</td>\n",
       "      <td>196.0</td>\n",
       "      <td>Passive</td>\n",
       "      <td>1558.58</td>\n",
       "      <td>102.92</td>\n",
       "      <td>10/18/2019 02:47 PM</td>\n",
       "      <td>49.0</td>\n",
       "      <td>4.0</td>\n",
       "      <td>3.0</td>\n",
       "      <td>3</td>\n",
       "      <td>85.0</td>\n",
       "      <td>302</td>\n",
       "      <td>No</td>\n",
       "      <td>41.0</td>\n",
       "    </tr>\n",
       "    <tr>\n",
       "      <th>4</th>\n",
       "      <td>CUS0x286f</td>\n",
       "      <td>211.0</td>\n",
       "      <td>Active</td>\n",
       "      <td>1260.48</td>\n",
       "      <td>291.54</td>\n",
       "      <td>11/13/2020 12:57 PM</td>\n",
       "      <td>43.0</td>\n",
       "      <td>4.0</td>\n",
       "      <td>3.0</td>\n",
       "      <td>4</td>\n",
       "      <td>120.0</td>\n",
       "      <td>306</td>\n",
       "      <td>No</td>\n",
       "      <td>48.0</td>\n",
       "    </tr>\n",
       "  </tbody>\n",
       "</table>\n",
       "</div>"
      ],
      "text/plain": [
       "  Customer_ID  No_of_orders_placed Category_of_customers  Maximum_bill  \\\n",
       "0   CUS0x4c0d                 99.0              Inactive       1549.05   \n",
       "1   CUS0x7d45                  5.0              Inactive       3682.21   \n",
       "2   CUS0x68c1                181.0              Inactive        729.08   \n",
       "3   CUS0x1c6e                196.0               Passive       1558.58   \n",
       "4   CUS0x286f                211.0                Active       1260.48   \n",
       "\n",
       "   Minimum_bill Last_order_placed_date  No_of_issues_raised  Customer_rating  \\\n",
       "0         79.00    05/31/2015 08:40 PM                  NaN              3.0   \n",
       "1        124.69    06/29/2015 11:15 PM                  5.0              4.0   \n",
       "2        297.79    04/29/2016 06:43 AM                 44.0              4.0   \n",
       "3        102.92    10/18/2019 02:47 PM                 49.0              4.0   \n",
       "4        291.54    11/13/2020 12:57 PM                 43.0              4.0   \n",
       "\n",
       "   Average_food_rating  Average_happiness_rating  Coupon_consumption_status  \\\n",
       "0                  4.0                         3                       99.0   \n",
       "1                  4.0                         4                        5.0   \n",
       "2                  3.0                         4                      152.0   \n",
       "3                  3.0                         3                       85.0   \n",
       "4                  3.0                         4                      120.0   \n",
       "\n",
       "   Coupons_offered Premium_membership  Discount_percentage  \n",
       "0              119                 No                 33.0  \n",
       "1               18                 No                 31.0  \n",
       "2              245                 No                 43.0  \n",
       "3              302                 No                 41.0  \n",
       "4              306                 No                 48.0  "
      ]
     },
     "execution_count": 3,
     "metadata": {},
     "output_type": "execute_result"
    }
   ],
   "source": [
    "df.head()"
   ]
  },
  {
   "cell_type": "code",
   "execution_count": 4,
   "id": "33e6eed4",
   "metadata": {},
   "outputs": [
    {
     "data": {
      "text/plain": [
       "(19978, 14)"
      ]
     },
     "execution_count": 4,
     "metadata": {},
     "output_type": "execute_result"
    }
   ],
   "source": [
    "df.shape"
   ]
  },
  {
   "cell_type": "code",
   "execution_count": 5,
   "id": "48fcfde6",
   "metadata": {},
   "outputs": [
    {
     "data": {
      "text/plain": [
       "Customer_ID                     0\n",
       "No_of_orders_placed          1712\n",
       "Category_of_customers        1120\n",
       "Maximum_bill                  123\n",
       "Minimum_bill                    0\n",
       "Last_order_placed_date       3091\n",
       "No_of_issues_raised          1655\n",
       "Customer_rating              2152\n",
       "Average_food_rating           240\n",
       "Average_happiness_rating        0\n",
       "Coupon_consumption_status     229\n",
       "Coupons_offered                 0\n",
       "Premium_membership              0\n",
       "Discount_percentage           240\n",
       "dtype: int64"
      ]
     },
     "execution_count": 5,
     "metadata": {},
     "output_type": "execute_result"
    }
   ],
   "source": [
    "df.isnull().sum()"
   ]
  },
  {
   "cell_type": "code",
   "execution_count": 6,
   "id": "1d171d4e",
   "metadata": {},
   "outputs": [
    {
     "name": "stdout",
     "output_type": "stream",
     "text": [
      "<class 'pandas.core.frame.DataFrame'>\n",
      "RangeIndex: 19978 entries, 0 to 19977\n",
      "Data columns (total 14 columns):\n",
      " #   Column                     Non-Null Count  Dtype  \n",
      "---  ------                     --------------  -----  \n",
      " 0   Customer_ID                19978 non-null  object \n",
      " 1   No_of_orders_placed        18266 non-null  float64\n",
      " 2   Category_of_customers      18858 non-null  object \n",
      " 3   Maximum_bill               19855 non-null  float64\n",
      " 4   Minimum_bill               19978 non-null  float64\n",
      " 5   Last_order_placed_date     16887 non-null  object \n",
      " 6   No_of_issues_raised        18323 non-null  float64\n",
      " 7   Customer_rating            17826 non-null  float64\n",
      " 8   Average_food_rating        19738 non-null  float64\n",
      " 9   Average_happiness_rating   19978 non-null  int64  \n",
      " 10  Coupon_consumption_status  19749 non-null  float64\n",
      " 11  Coupons_offered            19978 non-null  int64  \n",
      " 12  Premium_membership         19978 non-null  object \n",
      " 13  Discount_percentage        19738 non-null  float64\n",
      "dtypes: float64(8), int64(2), object(4)\n",
      "memory usage: 2.1+ MB\n"
     ]
    }
   ],
   "source": [
    "df.info()"
   ]
  },
  {
   "cell_type": "code",
   "execution_count": 7,
   "id": "77d3453f",
   "metadata": {},
   "outputs": [
    {
     "data": {
      "image/png": "[encoded data removed]",
      "text/plain": [
       "<Figure size 640x480 with 1 Axes>"
      ]
     },
     "metadata": {},
     "output_type": "display_data"
    }
   ],
   "source": [
    "import matplotlib.pyplot as plt\n",
    "plt.hist(df['No_of_orders_placed'], bins = 20)\n",
    "plt.show()"
   ]
  },
  {
   "cell_type": "code",
   "execution_count": 8,
   "id": "d7d3d14c",
   "metadata": {},
   "outputs": [],
   "source": [
    "mean_feature1 = df['No_of_orders_placed'].mean()\n",
    "df['No_of_orders_placed'].fillna(mean_feature1, inplace=True)"
   ]
  },
  {
   "cell_type": "code",
   "execution_count": 9,
   "id": "ee1ca730",
   "metadata": {},
   "outputs": [
    {
     "data": {
      "text/plain": [
       "Customer_ID                     0\n",
       "No_of_orders_placed             0\n",
       "Category_of_customers        1120\n",
       "Maximum_bill                  123\n",
       "Minimum_bill                    0\n",
       "Last_order_placed_date       3091\n",
       "No_of_issues_raised          1655\n",
       "Customer_rating              2152\n",
       "Average_food_rating           240\n",
       "Average_happiness_rating        0\n",
       "Coupon_consumption_status     229\n",
       "Coupons_offered                 0\n",
       "Premium_membership              0\n",
       "Discount_percentage           240\n",
       "dtype: int64"
      ]
     },
     "execution_count": 9,
     "metadata": {},
     "output_type": "execute_result"
    }
   ],
   "source": [
    "df.isnull().sum()"
   ]
  },
  {
   "cell_type": "code",
   "execution_count": 10,
   "id": "a8314dec",
   "metadata": {},
   "outputs": [],
   "source": [
    "mean_feature2 = df['Maximum_bill'].mean()\n",
    "df['Maximum_bill'].fillna(mean_feature2, inplace=True)\n",
    "\n",
    "mean_feature3 = df['No_of_issues_raised'].mean()\n",
    "df['No_of_issues_raised'].fillna(mean_feature3, inplace=True)\n",
    "\n",
    "mean_feature4 = df['Coupon_consumption_status'].mean()\n",
    "df['Coupon_consumption_status'].fillna(mean_feature4, inplace=True)"
   ]
  },
  {
   "cell_type": "code",
   "execution_count": 11,
   "id": "d6487f0c",
   "metadata": {},
   "outputs": [
    {
     "data": {
      "text/plain": [
       "Customer_ID                     0\n",
       "No_of_orders_placed             0\n",
       "Category_of_customers        1120\n",
       "Maximum_bill                    0\n",
       "Minimum_bill                    0\n",
       "Last_order_placed_date       3091\n",
       "No_of_issues_raised             0\n",
       "Customer_rating              2152\n",
       "Average_food_rating           240\n",
       "Average_happiness_rating        0\n",
       "Coupon_consumption_status       0\n",
       "Coupons_offered                 0\n",
       "Premium_membership              0\n",
       "Discount_percentage           240\n",
       "dtype: int64"
      ]
     },
     "execution_count": 11,
     "metadata": {},
     "output_type": "execute_result"
    }
   ],
   "source": [
    "df.isnull().sum()"
   ]
  },
  {
   "cell_type": "code",
   "execution_count": 12,
   "id": "938fdfbc",
   "metadata": {},
   "outputs": [
    {
     "data": {
      "text/plain": [
       "Inactive    8456\n",
       "Passive     6411\n",
       "Active      3752\n",
       "0            239\n",
       "Name: Category_of_customers, dtype: int64"
      ]
     },
     "execution_count": 12,
     "metadata": {},
     "output_type": "execute_result"
    }
   ],
   "source": [
    "df['Category_of_customers'].value_counts()"
   ]
  },
  {
   "cell_type": "code",
   "execution_count": 13,
   "id": "e9e51011",
   "metadata": {},
   "outputs": [],
   "source": [
    "df['Category_of_customers'].fillna(\"Missing\", inplace=True)\n",
    "df['Customer_rating'].fillna(0, inplace=True)\n",
    "df['Average_food_rating'].fillna(0, inplace=True)"
   ]
  },
  {
   "cell_type": "code",
   "execution_count": 14,
   "id": "abdb4aee",
   "metadata": {},
   "outputs": [
    {
     "data": {
      "text/plain": [
       "Inactive    8456\n",
       "Passive     6411\n",
       "Active      3752\n",
       "Missing     1120\n",
       "0            239\n",
       "Name: Category_of_customers, dtype: int64"
      ]
     },
     "execution_count": 14,
     "metadata": {},
     "output_type": "execute_result"
    }
   ],
   "source": [
    "df['Category_of_customers'].value_counts()"
   ]
  },
  {
   "cell_type": "code",
   "execution_count": 15,
   "id": "df3974ae",
   "metadata": {},
   "outputs": [
    {
     "data": {
      "image/png": "[encoded data removed]",
      "text/plain": [
       "<Figure size 640x480 with 1 Axes>"
      ]
     },
     "metadata": {},
     "output_type": "display_data"
    }
   ],
   "source": [
    "import matplotlib.pyplot as plt\n",
    "plt.hist(df['Maximum_bill'], bins = 20)\n",
    "plt.show()"
   ]
  },
  {
   "cell_type": "code",
   "execution_count": 16,
   "id": "14426d5e",
   "metadata": {},
   "outputs": [
    {
     "data": {
      "image/png": "[encoded data removed]",
      "text/plain": [
       "<Figure size 640x480 with 1 Axes>"
      ]
     },
     "metadata": {},
     "output_type": "display_data"
    }
   ],
   "source": [
    "import matplotlib.pyplot as plt\n",
    "plt.hist(df['No_of_issues_raised'], bins = 20)\n",
    "plt.show()"
   ]
  },
  {
   "cell_type": "code",
   "execution_count": 17,
   "id": "e3b7f1d6",
   "metadata": {},
   "outputs": [
    {
     "data": {
      "text/plain": [
       "4.0    12871\n",
       "3.0     2283\n",
       "0.0     2152\n",
       "5.0     1763\n",
       "2.0      909\n",
       "Name: Customer_rating, dtype: int64"
      ]
     },
     "execution_count": 17,
     "metadata": {},
     "output_type": "execute_result"
    }
   ],
   "source": [
    "df['Customer_rating'].value_counts()"
   ]
  },
  {
   "cell_type": "code",
   "execution_count": 18,
   "id": "a44b039f",
   "metadata": {},
   "outputs": [
    {
     "data": {
      "text/plain": [
       "4.0    12238\n",
       "3.0     3548\n",
       "5.0     1999\n",
       "2.0     1495\n",
       "1.0      458\n",
       "0.0      240\n",
       "Name: Average_food_rating, dtype: int64"
      ]
     },
     "execution_count": 18,
     "metadata": {},
     "output_type": "execute_result"
    }
   ],
   "source": [
    "df['Average_food_rating'].value_counts()"
   ]
  },
  {
   "cell_type": "code",
   "execution_count": 19,
   "id": "121f5364",
   "metadata": {},
   "outputs": [
    {
     "data": {
      "image/png": "[encoded data removed]",
      "text/plain": [
       "<Figure size 640x480 with 1 Axes>"
      ]
     },
     "metadata": {},
     "output_type": "display_data"
    }
   ],
   "source": [
    "import matplotlib.pyplot as plt\n",
    "plt.hist(df['Coupon_consumption_status'], bins = 20)\n",
    "plt.show()"
   ]
  },
  {
   "cell_type": "code",
   "execution_count": 20,
   "id": "6aa3012a",
   "metadata": {},
   "outputs": [],
   "source": [
    "df = df.dropna(subset=['Discount_percentage'])"
   ]
  },
  {
   "cell_type": "code",
   "execution_count": 21,
   "id": "ff559446",
   "metadata": {},
   "outputs": [
    {
     "data": {
      "text/plain": [
       "Customer_ID                     0\n",
       "No_of_orders_placed             0\n",
       "Category_of_customers           0\n",
       "Maximum_bill                    0\n",
       "Minimum_bill                    0\n",
       "Last_order_placed_date       3044\n",
       "No_of_issues_raised             0\n",
       "Customer_rating                 0\n",
       "Average_food_rating             0\n",
       "Average_happiness_rating        0\n",
       "Coupon_consumption_status       0\n",
       "Coupons_offered                 0\n",
       "Premium_membership              0\n",
       "Discount_percentage             0\n",
       "dtype: int64"
      ]
     },
     "execution_count": 21,
     "metadata": {},
     "output_type": "execute_result"
    }
   ],
   "source": [
    "df.isnull().sum()"
   ]
  },
  {
   "cell_type": "code",
   "execution_count": 22,
   "id": "97e43250",
   "metadata": {},
   "outputs": [
    {
     "data": {
      "text/html": [
       "<div>\n",
       "<style scoped>\n",
       "    .dataframe tbody tr th:only-of-type {\n",
       "        vertical-align: middle;\n",
       "    }\n",
       "\n",
       "    .dataframe tbody tr th {\n",
       "        vertical-align: top;\n",
       "    }\n",
       "\n",
       "    .dataframe thead th {\n",
       "        text-align: right;\n",
       "    }\n",
       "</style>\n",
       "<table border=\"1\" class=\"dataframe\">\n",
       "  <thead>\n",
       "    <tr style=\"text-align: right;\">\n",
       "      <th></th>\n",
       "      <th>Customer_ID</th>\n",
       "      <th>No_of_orders_placed</th>\n",
       "      <th>Category_of_customers</th>\n",
       "      <th>Maximum_bill</th>\n",
       "      <th>Minimum_bill</th>\n",
       "      <th>Last_order_placed_date</th>\n",
       "      <th>No_of_issues_raised</th>\n",
       "      <th>Customer_rating</th>\n",
       "      <th>Average_food_rating</th>\n",
       "      <th>Average_happiness_rating</th>\n",
       "      <th>Coupon_consumption_status</th>\n",
       "      <th>Coupons_offered</th>\n",
       "      <th>Premium_membership</th>\n",
       "      <th>Discount_percentage</th>\n",
       "    </tr>\n",
       "  </thead>\n",
       "  <tbody>\n",
       "    <tr>\n",
       "      <th>0</th>\n",
       "      <td>CUS0x4c0d</td>\n",
       "      <td>99.0</td>\n",
       "      <td>Inactive</td>\n",
       "      <td>1549.05</td>\n",
       "      <td>79.00</td>\n",
       "      <td>05/31/2015 08:40 PM</td>\n",
       "      <td>28.192436</td>\n",
       "      <td>3.0</td>\n",
       "      <td>4.0</td>\n",
       "      <td>3</td>\n",
       "      <td>99.0</td>\n",
       "      <td>119</td>\n",
       "      <td>No</td>\n",
       "      <td>33.0</td>\n",
       "    </tr>\n",
       "    <tr>\n",
       "      <th>1</th>\n",
       "      <td>CUS0x7d45</td>\n",
       "      <td>5.0</td>\n",
       "      <td>Inactive</td>\n",
       "      <td>3682.21</td>\n",
       "      <td>124.69</td>\n",
       "      <td>06/29/2015 11:15 PM</td>\n",
       "      <td>5.000000</td>\n",
       "      <td>4.0</td>\n",
       "      <td>4.0</td>\n",
       "      <td>4</td>\n",
       "      <td>5.0</td>\n",
       "      <td>18</td>\n",
       "      <td>No</td>\n",
       "      <td>31.0</td>\n",
       "    </tr>\n",
       "    <tr>\n",
       "      <th>2</th>\n",
       "      <td>CUS0x68c1</td>\n",
       "      <td>181.0</td>\n",
       "      <td>Inactive</td>\n",
       "      <td>729.08</td>\n",
       "      <td>297.79</td>\n",
       "      <td>04/29/2016 06:43 AM</td>\n",
       "      <td>44.000000</td>\n",
       "      <td>4.0</td>\n",
       "      <td>3.0</td>\n",
       "      <td>4</td>\n",
       "      <td>152.0</td>\n",
       "      <td>245</td>\n",
       "      <td>No</td>\n",
       "      <td>43.0</td>\n",
       "    </tr>\n",
       "    <tr>\n",
       "      <th>3</th>\n",
       "      <td>CUS0x1c6e</td>\n",
       "      <td>196.0</td>\n",
       "      <td>Passive</td>\n",
       "      <td>1558.58</td>\n",
       "      <td>102.92</td>\n",
       "      <td>10/18/2019 02:47 PM</td>\n",
       "      <td>49.000000</td>\n",
       "      <td>4.0</td>\n",
       "      <td>3.0</td>\n",
       "      <td>3</td>\n",
       "      <td>85.0</td>\n",
       "      <td>302</td>\n",
       "      <td>No</td>\n",
       "      <td>41.0</td>\n",
       "    </tr>\n",
       "    <tr>\n",
       "      <th>4</th>\n",
       "      <td>CUS0x286f</td>\n",
       "      <td>211.0</td>\n",
       "      <td>Active</td>\n",
       "      <td>1260.48</td>\n",
       "      <td>291.54</td>\n",
       "      <td>11/13/2020 12:57 PM</td>\n",
       "      <td>43.000000</td>\n",
       "      <td>4.0</td>\n",
       "      <td>3.0</td>\n",
       "      <td>4</td>\n",
       "      <td>120.0</td>\n",
       "      <td>306</td>\n",
       "      <td>No</td>\n",
       "      <td>48.0</td>\n",
       "    </tr>\n",
       "  </tbody>\n",
       "</table>\n",
       "</div>"
      ],
      "text/plain": [
       "  Customer_ID  No_of_orders_placed Category_of_customers  Maximum_bill  \\\n",
       "0   CUS0x4c0d                 99.0              Inactive       1549.05   \n",
       "1   CUS0x7d45                  5.0              Inactive       3682.21   \n",
       "2   CUS0x68c1                181.0              Inactive        729.08   \n",
       "3   CUS0x1c6e                196.0               Passive       1558.58   \n",
       "4   CUS0x286f                211.0                Active       1260.48   \n",
       "\n",
       "   Minimum_bill Last_order_placed_date  No_of_issues_raised  Customer_rating  \\\n",
       "0         79.00    05/31/2015 08:40 PM            28.192436              3.0   \n",
       "1        124.69    06/29/2015 11:15 PM             5.000000              4.0   \n",
       "2        297.79    04/29/2016 06:43 AM            44.000000              4.0   \n",
       "3        102.92    10/18/2019 02:47 PM            49.000000              4.0   \n",
       "4        291.54    11/13/2020 12:57 PM            43.000000              4.0   \n",
       "\n",
       "   Average_food_rating  Average_happiness_rating  Coupon_consumption_status  \\\n",
       "0                  4.0                         3                       99.0   \n",
       "1                  4.0                         4                        5.0   \n",
       "2                  3.0                         4                      152.0   \n",
       "3                  3.0                         3                       85.0   \n",
       "4                  3.0                         4                      120.0   \n",
       "\n",
       "   Coupons_offered Premium_membership  Discount_percentage  \n",
       "0              119                 No                 33.0  \n",
       "1               18                 No                 31.0  \n",
       "2              245                 No                 43.0  \n",
       "3              302                 No                 41.0  \n",
       "4              306                 No                 48.0  "
      ]
     },
     "execution_count": 22,
     "metadata": {},
     "output_type": "execute_result"
    }
   ],
   "source": [
    "df.head()"
   ]
  },
  {
   "cell_type": "code",
   "execution_count": 23,
   "id": "e3843704",
   "metadata": {},
   "outputs": [
    {
     "name": "stdout",
     "output_type": "stream",
     "text": [
      "<class 'pandas.core.frame.DataFrame'>\n",
      "Int64Index: 19738 entries, 0 to 19977\n",
      "Data columns (total 14 columns):\n",
      " #   Column                     Non-Null Count  Dtype  \n",
      "---  ------                     --------------  -----  \n",
      " 0   Customer_ID                19738 non-null  object \n",
      " 1   No_of_orders_placed        19738 non-null  float64\n",
      " 2   Category_of_customers      19738 non-null  object \n",
      " 3   Maximum_bill               19738 non-null  float64\n",
      " 4   Minimum_bill               19738 non-null  float64\n",
      " 5   Last_order_placed_date     16694 non-null  object \n",
      " 6   No_of_issues_raised        19738 non-null  float64\n",
      " 7   Customer_rating            19738 non-null  float64\n",
      " 8   Average_food_rating        19738 non-null  float64\n",
      " 9   Average_happiness_rating   19738 non-null  int64  \n",
      " 10  Coupon_consumption_status  19738 non-null  float64\n",
      " 11  Coupons_offered            19738 non-null  int64  \n",
      " 12  Premium_membership         19738 non-null  object \n",
      " 13  Discount_percentage        19738 non-null  float64\n",
      "dtypes: float64(8), int64(2), object(4)\n",
      "memory usage: 2.3+ MB\n"
     ]
    }
   ],
   "source": [
    "df.info()"
   ]
  },
  {
   "cell_type": "code",
   "execution_count": 24,
   "id": "3ebb0fa8",
   "metadata": {},
   "outputs": [],
   "source": [
    "import pandas as pd\n",
    "\n",
    "# Assuming your DataFrame is named 'df'\n",
    "df['Last_order_placed_date'] = pd.to_datetime(df['Last_order_placed_date'], format='%m/%d/%Y %I:%M %p')\n",
    "reference_date = pd.to_datetime('09/11/2023')\n",
    "df['Last_order_placed_date'] = (reference_date - df['Last_order_placed_date']).dt.days"
   ]
  },
  {
   "cell_type": "code",
   "execution_count": 25,
   "id": "193023d2",
   "metadata": {},
   "outputs": [
    {
     "data": {
      "text/html": [
       "<div>\n",
       "<style scoped>\n",
       "    .dataframe tbody tr th:only-of-type {\n",
       "        vertical-align: middle;\n",
       "    }\n",
       "\n",
       "    .dataframe tbody tr th {\n",
       "        vertical-align: top;\n",
       "    }\n",
       "\n",
       "    .dataframe thead th {\n",
       "        text-align: right;\n",
       "    }\n",
       "</style>\n",
       "<table border=\"1\" class=\"dataframe\">\n",
       "  <thead>\n",
       "    <tr style=\"text-align: right;\">\n",
       "      <th></th>\n",
       "      <th>Customer_ID</th>\n",
       "      <th>No_of_orders_placed</th>\n",
       "      <th>Category_of_customers</th>\n",
       "      <th>Maximum_bill</th>\n",
       "      <th>Minimum_bill</th>\n",
       "      <th>Last_order_placed_date</th>\n",
       "      <th>No_of_issues_raised</th>\n",
       "      <th>Customer_rating</th>\n",
       "      <th>Average_food_rating</th>\n",
       "      <th>Average_happiness_rating</th>\n",
       "      <th>Coupon_consumption_status</th>\n",
       "      <th>Coupons_offered</th>\n",
       "      <th>Premium_membership</th>\n",
       "      <th>Discount_percentage</th>\n",
       "    </tr>\n",
       "  </thead>\n",
       "  <tbody>\n",
       "    <tr>\n",
       "      <th>0</th>\n",
       "      <td>CUS0x4c0d</td>\n",
       "      <td>99.0</td>\n",
       "      <td>Inactive</td>\n",
       "      <td>1549.05</td>\n",
       "      <td>79.00</td>\n",
       "      <td>3024.0</td>\n",
       "      <td>28.192436</td>\n",
       "      <td>3.0</td>\n",
       "      <td>4.0</td>\n",
       "      <td>3</td>\n",
       "      <td>99.0</td>\n",
       "      <td>119</td>\n",
       "      <td>No</td>\n",
       "      <td>33.0</td>\n",
       "    </tr>\n",
       "    <tr>\n",
       "      <th>1</th>\n",
       "      <td>CUS0x7d45</td>\n",
       "      <td>5.0</td>\n",
       "      <td>Inactive</td>\n",
       "      <td>3682.21</td>\n",
       "      <td>124.69</td>\n",
       "      <td>2995.0</td>\n",
       "      <td>5.000000</td>\n",
       "      <td>4.0</td>\n",
       "      <td>4.0</td>\n",
       "      <td>4</td>\n",
       "      <td>5.0</td>\n",
       "      <td>18</td>\n",
       "      <td>No</td>\n",
       "      <td>31.0</td>\n",
       "    </tr>\n",
       "    <tr>\n",
       "      <th>2</th>\n",
       "      <td>CUS0x68c1</td>\n",
       "      <td>181.0</td>\n",
       "      <td>Inactive</td>\n",
       "      <td>729.08</td>\n",
       "      <td>297.79</td>\n",
       "      <td>2690.0</td>\n",
       "      <td>44.000000</td>\n",
       "      <td>4.0</td>\n",
       "      <td>3.0</td>\n",
       "      <td>4</td>\n",
       "      <td>152.0</td>\n",
       "      <td>245</td>\n",
       "      <td>No</td>\n",
       "      <td>43.0</td>\n",
       "    </tr>\n",
       "    <tr>\n",
       "      <th>3</th>\n",
       "      <td>CUS0x1c6e</td>\n",
       "      <td>196.0</td>\n",
       "      <td>Passive</td>\n",
       "      <td>1558.58</td>\n",
       "      <td>102.92</td>\n",
       "      <td>1423.0</td>\n",
       "      <td>49.000000</td>\n",
       "      <td>4.0</td>\n",
       "      <td>3.0</td>\n",
       "      <td>3</td>\n",
       "      <td>85.0</td>\n",
       "      <td>302</td>\n",
       "      <td>No</td>\n",
       "      <td>41.0</td>\n",
       "    </tr>\n",
       "    <tr>\n",
       "      <th>4</th>\n",
       "      <td>CUS0x286f</td>\n",
       "      <td>211.0</td>\n",
       "      <td>Active</td>\n",
       "      <td>1260.48</td>\n",
       "      <td>291.54</td>\n",
       "      <td>1031.0</td>\n",
       "      <td>43.000000</td>\n",
       "      <td>4.0</td>\n",
       "      <td>3.0</td>\n",
       "      <td>4</td>\n",
       "      <td>120.0</td>\n",
       "      <td>306</td>\n",
       "      <td>No</td>\n",
       "      <td>48.0</td>\n",
       "    </tr>\n",
       "  </tbody>\n",
       "</table>\n",
       "</div>"
      ],
      "text/plain": [
       "  Customer_ID  No_of_orders_placed Category_of_customers  Maximum_bill  \\\n",
       "0   CUS0x4c0d                 99.0              Inactive       1549.05   \n",
       "1   CUS0x7d45                  5.0              Inactive       3682.21   \n",
       "2   CUS0x68c1                181.0              Inactive        729.08   \n",
       "3   CUS0x1c6e                196.0               Passive       1558.58   \n",
       "4   CUS0x286f                211.0                Active       1260.48   \n",
       "\n",
       "   Minimum_bill  Last_order_placed_date  No_of_issues_raised  Customer_rating  \\\n",
       "0         79.00                  3024.0            28.192436              3.0   \n",
       "1        124.69                  2995.0             5.000000              4.0   \n",
       "2        297.79                  2690.0            44.000000              4.0   \n",
       "3        102.92                  1423.0            49.000000              4.0   \n",
       "4        291.54                  1031.0            43.000000              4.0   \n",
       "\n",
       "   Average_food_rating  Average_happiness_rating  Coupon_consumption_status  \\\n",
       "0                  4.0                         3                       99.0   \n",
       "1                  4.0                         4                        5.0   \n",
       "2                  3.0                         4                      152.0   \n",
       "3                  3.0                         3                       85.0   \n",
       "4                  3.0                         4                      120.0   \n",
       "\n",
       "   Coupons_offered Premium_membership  Discount_percentage  \n",
       "0              119                 No                 33.0  \n",
       "1               18                 No                 31.0  \n",
       "2              245                 No                 43.0  \n",
       "3              302                 No                 41.0  \n",
       "4              306                 No                 48.0  "
      ]
     },
     "execution_count": 25,
     "metadata": {},
     "output_type": "execute_result"
    }
   ],
   "source": [
    "df.head()"
   ]
  },
  {
   "cell_type": "code",
   "execution_count": 26,
   "id": "0a8db33f",
   "metadata": {},
   "outputs": [
    {
     "data": {
      "text/plain": [
       "Customer_ID                     0\n",
       "No_of_orders_placed             0\n",
       "Category_of_customers           0\n",
       "Maximum_bill                    0\n",
       "Minimum_bill                    0\n",
       "Last_order_placed_date       3044\n",
       "No_of_issues_raised             0\n",
       "Customer_rating                 0\n",
       "Average_food_rating             0\n",
       "Average_happiness_rating        0\n",
       "Coupon_consumption_status       0\n",
       "Coupons_offered                 0\n",
       "Premium_membership              0\n",
       "Discount_percentage             0\n",
       "dtype: int64"
      ]
     },
     "execution_count": 26,
     "metadata": {},
     "output_type": "execute_result"
    }
   ],
   "source": [
    "df.isnull().sum()"
   ]
  },
  {
   "cell_type": "code",
   "execution_count": 27,
   "id": "84ab6d64",
   "metadata": {},
   "outputs": [],
   "source": [
    "df['Last_order_placed_date'].fillna(df['Last_order_placed_date'].mean(), inplace=True)"
   ]
  },
  {
   "cell_type": "code",
   "execution_count": 28,
   "id": "b0bacafa",
   "metadata": {},
   "outputs": [
    {
     "data": {
      "text/plain": [
       "Customer_ID                  0\n",
       "No_of_orders_placed          0\n",
       "Category_of_customers        0\n",
       "Maximum_bill                 0\n",
       "Minimum_bill                 0\n",
       "Last_order_placed_date       0\n",
       "No_of_issues_raised          0\n",
       "Customer_rating              0\n",
       "Average_food_rating          0\n",
       "Average_happiness_rating     0\n",
       "Coupon_consumption_status    0\n",
       "Coupons_offered              0\n",
       "Premium_membership           0\n",
       "Discount_percentage          0\n",
       "dtype: int64"
      ]
     },
     "execution_count": 28,
     "metadata": {},
     "output_type": "execute_result"
    }
   ],
   "source": [
    "df.isnull().sum()"
   ]
  },
  {
   "cell_type": "code",
   "execution_count": 29,
   "id": "01515d46",
   "metadata": {},
   "outputs": [
    {
     "name": "stdout",
     "output_type": "stream",
     "text": [
      "<class 'pandas.core.frame.DataFrame'>\n",
      "Int64Index: 19738 entries, 0 to 19977\n",
      "Data columns (total 14 columns):\n",
      " #   Column                     Non-Null Count  Dtype  \n",
      "---  ------                     --------------  -----  \n",
      " 0   Customer_ID                19738 non-null  object \n",
      " 1   No_of_orders_placed        19738 non-null  float64\n",
      " 2   Category_of_customers      19738 non-null  object \n",
      " 3   Maximum_bill               19738 non-null  float64\n",
      " 4   Minimum_bill               19738 non-null  float64\n",
      " 5   Last_order_placed_date     19738 non-null  float64\n",
      " 6   No_of_issues_raised        19738 non-null  float64\n",
      " 7   Customer_rating            19738 non-null  float64\n",
      " 8   Average_food_rating        19738 non-null  float64\n",
      " 9   Average_happiness_rating   19738 non-null  int64  \n",
      " 10  Coupon_consumption_status  19738 non-null  float64\n",
      " 11  Coupons_offered            19738 non-null  int64  \n",
      " 12  Premium_membership         19738 non-null  object \n",
      " 13  Discount_percentage        19738 non-null  float64\n",
      "dtypes: float64(9), int64(2), object(3)\n",
      "memory usage: 2.3+ MB\n"
     ]
    }
   ],
   "source": [
    "df.info()"
   ]
  },
  {
   "cell_type": "code",
   "execution_count": 30,
   "id": "3e39d34c",
   "metadata": {},
   "outputs": [
    {
     "data": {
      "text/plain": [
       "Inactive    8353\n",
       "Passive     6344\n",
       "Active      3711\n",
       "Missing     1095\n",
       "0            235\n",
       "Name: Category_of_customers, dtype: int64"
      ]
     },
     "execution_count": 30,
     "metadata": {},
     "output_type": "execute_result"
    }
   ],
   "source": [
    "df['Category_of_customers'].value_counts()"
   ]
  },
  {
   "cell_type": "code",
   "execution_count": 31,
   "id": "adf9e065",
   "metadata": {},
   "outputs": [],
   "source": [
    "label_encoding_mapping_COC = {\n",
    "    \"Active\": 5,  # Give more weightage to 5.0\n",
    "    \"Passive\": 4,\n",
    "    \"Missing\":3,\n",
    "    \"Inactive\":2,\n",
    "    \"0\":1 \n",
    "}\n",
    "\n",
    "df['Category_of_customers'] = df['Category_of_customers'].map(label_encoding_mapping_COC)"
   ]
  },
  {
   "cell_type": "code",
   "execution_count": 32,
   "id": "9236fef3",
   "metadata": {},
   "outputs": [
    {
     "name": "stdout",
     "output_type": "stream",
     "text": [
      "<class 'pandas.core.frame.DataFrame'>\n",
      "Int64Index: 19738 entries, 0 to 19977\n",
      "Data columns (total 14 columns):\n",
      " #   Column                     Non-Null Count  Dtype  \n",
      "---  ------                     --------------  -----  \n",
      " 0   Customer_ID                19738 non-null  object \n",
      " 1   No_of_orders_placed        19738 non-null  float64\n",
      " 2   Category_of_customers      19738 non-null  int64  \n",
      " 3   Maximum_bill               19738 non-null  float64\n",
      " 4   Minimum_bill               19738 non-null  float64\n",
      " 5   Last_order_placed_date     19738 non-null  float64\n",
      " 6   No_of_issues_raised        19738 non-null  float64\n",
      " 7   Customer_rating            19738 non-null  float64\n",
      " 8   Average_food_rating        19738 non-null  float64\n",
      " 9   Average_happiness_rating   19738 non-null  int64  \n",
      " 10  Coupon_consumption_status  19738 non-null  float64\n",
      " 11  Coupons_offered            19738 non-null  int64  \n",
      " 12  Premium_membership         19738 non-null  object \n",
      " 13  Discount_percentage        19738 non-null  float64\n",
      "dtypes: float64(9), int64(3), object(2)\n",
      "memory usage: 2.3+ MB\n"
     ]
    }
   ],
   "source": [
    "df.info()"
   ]
  },
  {
   "cell_type": "code",
   "execution_count": 33,
   "id": "d118933a",
   "metadata": {},
   "outputs": [
    {
     "data": {
      "text/html": [
       "<div>\n",
       "<style scoped>\n",
       "    .dataframe tbody tr th:only-of-type {\n",
       "        vertical-align: middle;\n",
       "    }\n",
       "\n",
       "    .dataframe tbody tr th {\n",
       "        vertical-align: top;\n",
       "    }\n",
       "\n",
       "    .dataframe thead th {\n",
       "        text-align: right;\n",
       "    }\n",
       "</style>\n",
       "<table border=\"1\" class=\"dataframe\">\n",
       "  <thead>\n",
       "    <tr style=\"text-align: right;\">\n",
       "      <th></th>\n",
       "      <th>Customer_ID</th>\n",
       "      <th>No_of_orders_placed</th>\n",
       "      <th>Category_of_customers</th>\n",
       "      <th>Maximum_bill</th>\n",
       "      <th>Minimum_bill</th>\n",
       "      <th>Last_order_placed_date</th>\n",
       "      <th>No_of_issues_raised</th>\n",
       "      <th>Customer_rating</th>\n",
       "      <th>Average_food_rating</th>\n",
       "      <th>Average_happiness_rating</th>\n",
       "      <th>Coupon_consumption_status</th>\n",
       "      <th>Coupons_offered</th>\n",
       "      <th>Premium_membership</th>\n",
       "      <th>Discount_percentage</th>\n",
       "    </tr>\n",
       "  </thead>\n",
       "  <tbody>\n",
       "    <tr>\n",
       "      <th>0</th>\n",
       "      <td>CUS0x4c0d</td>\n",
       "      <td>99.0</td>\n",
       "      <td>2</td>\n",
       "      <td>1549.05</td>\n",
       "      <td>79.00</td>\n",
       "      <td>3024.0</td>\n",
       "      <td>28.192436</td>\n",
       "      <td>3.0</td>\n",
       "      <td>4.0</td>\n",
       "      <td>3</td>\n",
       "      <td>99.0</td>\n",
       "      <td>119</td>\n",
       "      <td>No</td>\n",
       "      <td>33.0</td>\n",
       "    </tr>\n",
       "    <tr>\n",
       "      <th>1</th>\n",
       "      <td>CUS0x7d45</td>\n",
       "      <td>5.0</td>\n",
       "      <td>2</td>\n",
       "      <td>3682.21</td>\n",
       "      <td>124.69</td>\n",
       "      <td>2995.0</td>\n",
       "      <td>5.000000</td>\n",
       "      <td>4.0</td>\n",
       "      <td>4.0</td>\n",
       "      <td>4</td>\n",
       "      <td>5.0</td>\n",
       "      <td>18</td>\n",
       "      <td>No</td>\n",
       "      <td>31.0</td>\n",
       "    </tr>\n",
       "    <tr>\n",
       "      <th>2</th>\n",
       "      <td>CUS0x68c1</td>\n",
       "      <td>181.0</td>\n",
       "      <td>2</td>\n",
       "      <td>729.08</td>\n",
       "      <td>297.79</td>\n",
       "      <td>2690.0</td>\n",
       "      <td>44.000000</td>\n",
       "      <td>4.0</td>\n",
       "      <td>3.0</td>\n",
       "      <td>4</td>\n",
       "      <td>152.0</td>\n",
       "      <td>245</td>\n",
       "      <td>No</td>\n",
       "      <td>43.0</td>\n",
       "    </tr>\n",
       "    <tr>\n",
       "      <th>3</th>\n",
       "      <td>CUS0x1c6e</td>\n",
       "      <td>196.0</td>\n",
       "      <td>4</td>\n",
       "      <td>1558.58</td>\n",
       "      <td>102.92</td>\n",
       "      <td>1423.0</td>\n",
       "      <td>49.000000</td>\n",
       "      <td>4.0</td>\n",
       "      <td>3.0</td>\n",
       "      <td>3</td>\n",
       "      <td>85.0</td>\n",
       "      <td>302</td>\n",
       "      <td>No</td>\n",
       "      <td>41.0</td>\n",
       "    </tr>\n",
       "    <tr>\n",
       "      <th>4</th>\n",
       "      <td>CUS0x286f</td>\n",
       "      <td>211.0</td>\n",
       "      <td>5</td>\n",
       "      <td>1260.48</td>\n",
       "      <td>291.54</td>\n",
       "      <td>1031.0</td>\n",
       "      <td>43.000000</td>\n",
       "      <td>4.0</td>\n",
       "      <td>3.0</td>\n",
       "      <td>4</td>\n",
       "      <td>120.0</td>\n",
       "      <td>306</td>\n",
       "      <td>No</td>\n",
       "      <td>48.0</td>\n",
       "    </tr>\n",
       "  </tbody>\n",
       "</table>\n",
       "</div>"
      ],
      "text/plain": [
       "  Customer_ID  No_of_orders_placed  Category_of_customers  Maximum_bill  \\\n",
       "0   CUS0x4c0d                 99.0                      2       1549.05   \n",
       "1   CUS0x7d45                  5.0                      2       3682.21   \n",
       "2   CUS0x68c1                181.0                      2        729.08   \n",
       "3   CUS0x1c6e                196.0                      4       1558.58   \n",
       "4   CUS0x286f                211.0                      5       1260.48   \n",
       "\n",
       "   Minimum_bill  Last_order_placed_date  No_of_issues_raised  Customer_rating  \\\n",
       "0         79.00                  3024.0            28.192436              3.0   \n",
       "1        124.69                  2995.0             5.000000              4.0   \n",
       "2        297.79                  2690.0            44.000000              4.0   \n",
       "3        102.92                  1423.0            49.000000              4.0   \n",
       "4        291.54                  1031.0            43.000000              4.0   \n",
       "\n",
       "   Average_food_rating  Average_happiness_rating  Coupon_consumption_status  \\\n",
       "0                  4.0                         3                       99.0   \n",
       "1                  4.0                         4                        5.0   \n",
       "2                  3.0                         4                      152.0   \n",
       "3                  3.0                         3                       85.0   \n",
       "4                  3.0                         4                      120.0   \n",
       "\n",
       "   Coupons_offered Premium_membership  Discount_percentage  \n",
       "0              119                 No                 33.0  \n",
       "1               18                 No                 31.0  \n",
       "2              245                 No                 43.0  \n",
       "3              302                 No                 41.0  \n",
       "4              306                 No                 48.0  "
      ]
     },
     "execution_count": 33,
     "metadata": {},
     "output_type": "execute_result"
    }
   ],
   "source": [
    "df.head()"
   ]
  },
  {
   "cell_type": "code",
   "execution_count": 34,
   "id": "288bbb79",
   "metadata": {},
   "outputs": [
    {
     "data": {
      "text/plain": [
       "4.0    12736\n",
       "3.0     2259\n",
       "0.0     2105\n",
       "5.0     1741\n",
       "2.0      897\n",
       "Name: Customer_rating, dtype: int64"
      ]
     },
     "execution_count": 34,
     "metadata": {},
     "output_type": "execute_result"
    }
   ],
   "source": [
    "df['Customer_rating'].value_counts()"
   ]
  },
  {
   "cell_type": "code",
   "execution_count": 35,
   "id": "3f2cacf2",
   "metadata": {},
   "outputs": [],
   "source": [
    "df['Customer_rating'] = pd.to_numeric(df['Customer_rating'], errors='coerce', downcast='integer')"
   ]
  },
  {
   "cell_type": "code",
   "execution_count": 36,
   "id": "19e2b750",
   "metadata": {},
   "outputs": [
    {
     "name": "stdout",
     "output_type": "stream",
     "text": [
      "<class 'pandas.core.frame.DataFrame'>\n",
      "Int64Index: 19738 entries, 0 to 19977\n",
      "Data columns (total 14 columns):\n",
      " #   Column                     Non-Null Count  Dtype  \n",
      "---  ------                     --------------  -----  \n",
      " 0   Customer_ID                19738 non-null  object \n",
      " 1   No_of_orders_placed        19738 non-null  float64\n",
      " 2   Category_of_customers      19738 non-null  int64  \n",
      " 3   Maximum_bill               19738 non-null  float64\n",
      " 4   Minimum_bill               19738 non-null  float64\n",
      " 5   Last_order_placed_date     19738 non-null  float64\n",
      " 6   No_of_issues_raised        19738 non-null  float64\n",
      " 7   Customer_rating            19738 non-null  int8   \n",
      " 8   Average_food_rating        19738 non-null  float64\n",
      " 9   Average_happiness_rating   19738 non-null  int64  \n",
      " 10  Coupon_consumption_status  19738 non-null  float64\n",
      " 11  Coupons_offered            19738 non-null  int64  \n",
      " 12  Premium_membership         19738 non-null  object \n",
      " 13  Discount_percentage        19738 non-null  float64\n",
      "dtypes: float64(8), int64(3), int8(1), object(2)\n",
      "memory usage: 2.1+ MB\n"
     ]
    }
   ],
   "source": [
    "df.info()"
   ]
  },
  {
   "cell_type": "code",
   "execution_count": 37,
   "id": "9f946edd",
   "metadata": {},
   "outputs": [
    {
     "data": {
      "text/html": [
       "<div>\n",
       "<style scoped>\n",
       "    .dataframe tbody tr th:only-of-type {\n",
       "        vertical-align: middle;\n",
       "    }\n",
       "\n",
       "    .dataframe tbody tr th {\n",
       "        vertical-align: top;\n",
       "    }\n",
       "\n",
       "    .dataframe thead th {\n",
       "        text-align: right;\n",
       "    }\n",
       "</style>\n",
       "<table border=\"1\" class=\"dataframe\">\n",
       "  <thead>\n",
       "    <tr style=\"text-align: right;\">\n",
       "      <th></th>\n",
       "      <th>Customer_ID</th>\n",
       "      <th>No_of_orders_placed</th>\n",
       "      <th>Category_of_customers</th>\n",
       "      <th>Maximum_bill</th>\n",
       "      <th>Minimum_bill</th>\n",
       "      <th>Last_order_placed_date</th>\n",
       "      <th>No_of_issues_raised</th>\n",
       "      <th>Customer_rating</th>\n",
       "      <th>Average_food_rating</th>\n",
       "      <th>Average_happiness_rating</th>\n",
       "      <th>Coupon_consumption_status</th>\n",
       "      <th>Coupons_offered</th>\n",
       "      <th>Premium_membership</th>\n",
       "      <th>Discount_percentage</th>\n",
       "    </tr>\n",
       "  </thead>\n",
       "  <tbody>\n",
       "    <tr>\n",
       "      <th>0</th>\n",
       "      <td>CUS0x4c0d</td>\n",
       "      <td>99.0</td>\n",
       "      <td>2</td>\n",
       "      <td>1549.05</td>\n",
       "      <td>79.00</td>\n",
       "      <td>3024.0</td>\n",
       "      <td>28.192436</td>\n",
       "      <td>3</td>\n",
       "      <td>4.0</td>\n",
       "      <td>3</td>\n",
       "      <td>99.0</td>\n",
       "      <td>119</td>\n",
       "      <td>No</td>\n",
       "      <td>33.0</td>\n",
       "    </tr>\n",
       "    <tr>\n",
       "      <th>1</th>\n",
       "      <td>CUS0x7d45</td>\n",
       "      <td>5.0</td>\n",
       "      <td>2</td>\n",
       "      <td>3682.21</td>\n",
       "      <td>124.69</td>\n",
       "      <td>2995.0</td>\n",
       "      <td>5.000000</td>\n",
       "      <td>4</td>\n",
       "      <td>4.0</td>\n",
       "      <td>4</td>\n",
       "      <td>5.0</td>\n",
       "      <td>18</td>\n",
       "      <td>No</td>\n",
       "      <td>31.0</td>\n",
       "    </tr>\n",
       "    <tr>\n",
       "      <th>2</th>\n",
       "      <td>CUS0x68c1</td>\n",
       "      <td>181.0</td>\n",
       "      <td>2</td>\n",
       "      <td>729.08</td>\n",
       "      <td>297.79</td>\n",
       "      <td>2690.0</td>\n",
       "      <td>44.000000</td>\n",
       "      <td>4</td>\n",
       "      <td>3.0</td>\n",
       "      <td>4</td>\n",
       "      <td>152.0</td>\n",
       "      <td>245</td>\n",
       "      <td>No</td>\n",
       "      <td>43.0</td>\n",
       "    </tr>\n",
       "    <tr>\n",
       "      <th>3</th>\n",
       "      <td>CUS0x1c6e</td>\n",
       "      <td>196.0</td>\n",
       "      <td>4</td>\n",
       "      <td>1558.58</td>\n",
       "      <td>102.92</td>\n",
       "      <td>1423.0</td>\n",
       "      <td>49.000000</td>\n",
       "      <td>4</td>\n",
       "      <td>3.0</td>\n",
       "      <td>3</td>\n",
       "      <td>85.0</td>\n",
       "      <td>302</td>\n",
       "      <td>No</td>\n",
       "      <td>41.0</td>\n",
       "    </tr>\n",
       "    <tr>\n",
       "      <th>4</th>\n",
       "      <td>CUS0x286f</td>\n",
       "      <td>211.0</td>\n",
       "      <td>5</td>\n",
       "      <td>1260.48</td>\n",
       "      <td>291.54</td>\n",
       "      <td>1031.0</td>\n",
       "      <td>43.000000</td>\n",
       "      <td>4</td>\n",
       "      <td>3.0</td>\n",
       "      <td>4</td>\n",
       "      <td>120.0</td>\n",
       "      <td>306</td>\n",
       "      <td>No</td>\n",
       "      <td>48.0</td>\n",
       "    </tr>\n",
       "  </tbody>\n",
       "</table>\n",
       "</div>"
      ],
      "text/plain": [
       "  Customer_ID  No_of_orders_placed  Category_of_customers  Maximum_bill  \\\n",
       "0   CUS0x4c0d                 99.0                      2       1549.05   \n",
       "1   CUS0x7d45                  5.0                      2       3682.21   \n",
       "2   CUS0x68c1                181.0                      2        729.08   \n",
       "3   CUS0x1c6e                196.0                      4       1558.58   \n",
       "4   CUS0x286f                211.0                      5       1260.48   \n",
       "\n",
       "   Minimum_bill  Last_order_placed_date  No_of_issues_raised  Customer_rating  \\\n",
       "0         79.00                  3024.0            28.192436                3   \n",
       "1        124.69                  2995.0             5.000000                4   \n",
       "2        297.79                  2690.0            44.000000                4   \n",
       "3        102.92                  1423.0            49.000000                4   \n",
       "4        291.54                  1031.0            43.000000                4   \n",
       "\n",
       "   Average_food_rating  Average_happiness_rating  Coupon_consumption_status  \\\n",
       "0                  4.0                         3                       99.0   \n",
       "1                  4.0                         4                        5.0   \n",
       "2                  3.0                         4                      152.0   \n",
       "3                  3.0                         3                       85.0   \n",
       "4                  3.0                         4                      120.0   \n",
       "\n",
       "   Coupons_offered Premium_membership  Discount_percentage  \n",
       "0              119                 No                 33.0  \n",
       "1               18                 No                 31.0  \n",
       "2              245                 No                 43.0  \n",
       "3              302                 No                 41.0  \n",
       "4              306                 No                 48.0  "
      ]
     },
     "execution_count": 37,
     "metadata": {},
     "output_type": "execute_result"
    }
   ],
   "source": [
    "df.head()"
   ]
  },
  {
   "cell_type": "code",
   "execution_count": 38,
   "id": "076c5ce3",
   "metadata": {},
   "outputs": [
    {
     "data": {
      "text/plain": [
       "Customer_ID                  0\n",
       "No_of_orders_placed          0\n",
       "Category_of_customers        0\n",
       "Maximum_bill                 0\n",
       "Minimum_bill                 0\n",
       "Last_order_placed_date       0\n",
       "No_of_issues_raised          0\n",
       "Customer_rating              0\n",
       "Average_food_rating          0\n",
       "Average_happiness_rating     0\n",
       "Coupon_consumption_status    0\n",
       "Coupons_offered              0\n",
       "Premium_membership           0\n",
       "Discount_percentage          0\n",
       "dtype: int64"
      ]
     },
     "execution_count": 38,
     "metadata": {},
     "output_type": "execute_result"
    }
   ],
   "source": [
    "df.isnull().sum()"
   ]
  },
  {
   "cell_type": "code",
   "execution_count": 39,
   "id": "5841fb2a",
   "metadata": {},
   "outputs": [
    {
     "data": {
      "text/plain": [
       "(19738, 14)"
      ]
     },
     "execution_count": 39,
     "metadata": {},
     "output_type": "execute_result"
    }
   ],
   "source": [
    "df.shape"
   ]
  },
  {
   "cell_type": "code",
   "execution_count": 40,
   "id": "461bbc8b",
   "metadata": {},
   "outputs": [
    {
     "data": {
      "text/plain": [
       "4.0    12087\n",
       "3.0     3508\n",
       "5.0     1974\n",
       "2.0     1479\n",
       "1.0      454\n",
       "0.0      236\n",
       "Name: Average_food_rating, dtype: int64"
      ]
     },
     "execution_count": 40,
     "metadata": {},
     "output_type": "execute_result"
    }
   ],
   "source": [
    "df['Average_food_rating'].value_counts()"
   ]
  },
  {
   "cell_type": "code",
   "execution_count": 41,
   "id": "8f66971d",
   "metadata": {},
   "outputs": [
    {
     "name": "stdout",
     "output_type": "stream",
     "text": [
      "<class 'pandas.core.frame.DataFrame'>\n",
      "Int64Index: 19738 entries, 0 to 19977\n",
      "Data columns (total 14 columns):\n",
      " #   Column                     Non-Null Count  Dtype  \n",
      "---  ------                     --------------  -----  \n",
      " 0   Customer_ID                19738 non-null  object \n",
      " 1   No_of_orders_placed        19738 non-null  float64\n",
      " 2   Category_of_customers      19738 non-null  int64  \n",
      " 3   Maximum_bill               19738 non-null  float64\n",
      " 4   Minimum_bill               19738 non-null  float64\n",
      " 5   Last_order_placed_date     19738 non-null  float64\n",
      " 6   No_of_issues_raised        19738 non-null  float64\n",
      " 7   Customer_rating            19738 non-null  int8   \n",
      " 8   Average_food_rating        19738 non-null  float64\n",
      " 9   Average_happiness_rating   19738 non-null  int64  \n",
      " 10  Coupon_consumption_status  19738 non-null  float64\n",
      " 11  Coupons_offered            19738 non-null  int64  \n",
      " 12  Premium_membership         19738 non-null  object \n",
      " 13  Discount_percentage        19738 non-null  float64\n",
      "dtypes: float64(8), int64(3), int8(1), object(2)\n",
      "memory usage: 2.1+ MB\n"
     ]
    }
   ],
   "source": [
    "df.info()"
   ]
  },
  {
   "cell_type": "code",
   "execution_count": 42,
   "id": "eb3ddfa1",
   "metadata": {},
   "outputs": [
    {
     "data": {
      "text/html": [
       "<div>\n",
       "<style scoped>\n",
       "    .dataframe tbody tr th:only-of-type {\n",
       "        vertical-align: middle;\n",
       "    }\n",
       "\n",
       "    .dataframe tbody tr th {\n",
       "        vertical-align: top;\n",
       "    }\n",
       "\n",
       "    .dataframe thead th {\n",
       "        text-align: right;\n",
       "    }\n",
       "</style>\n",
       "<table border=\"1\" class=\"dataframe\">\n",
       "  <thead>\n",
       "    <tr style=\"text-align: right;\">\n",
       "      <th></th>\n",
       "      <th>Customer_ID</th>\n",
       "      <th>No_of_orders_placed</th>\n",
       "      <th>Category_of_customers</th>\n",
       "      <th>Maximum_bill</th>\n",
       "      <th>Minimum_bill</th>\n",
       "      <th>Last_order_placed_date</th>\n",
       "      <th>No_of_issues_raised</th>\n",
       "      <th>Customer_rating</th>\n",
       "      <th>Average_food_rating</th>\n",
       "      <th>Average_happiness_rating</th>\n",
       "      <th>Coupon_consumption_status</th>\n",
       "      <th>Coupons_offered</th>\n",
       "      <th>Premium_membership</th>\n",
       "      <th>Discount_percentage</th>\n",
       "    </tr>\n",
       "  </thead>\n",
       "  <tbody>\n",
       "    <tr>\n",
       "      <th>0</th>\n",
       "      <td>CUS0x4c0d</td>\n",
       "      <td>99.0</td>\n",
       "      <td>2</td>\n",
       "      <td>1549.05</td>\n",
       "      <td>79.00</td>\n",
       "      <td>3024.0</td>\n",
       "      <td>28.192436</td>\n",
       "      <td>3</td>\n",
       "      <td>4.0</td>\n",
       "      <td>3</td>\n",
       "      <td>99.0</td>\n",
       "      <td>119</td>\n",
       "      <td>No</td>\n",
       "      <td>33.0</td>\n",
       "    </tr>\n",
       "    <tr>\n",
       "      <th>1</th>\n",
       "      <td>CUS0x7d45</td>\n",
       "      <td>5.0</td>\n",
       "      <td>2</td>\n",
       "      <td>3682.21</td>\n",
       "      <td>124.69</td>\n",
       "      <td>2995.0</td>\n",
       "      <td>5.000000</td>\n",
       "      <td>4</td>\n",
       "      <td>4.0</td>\n",
       "      <td>4</td>\n",
       "      <td>5.0</td>\n",
       "      <td>18</td>\n",
       "      <td>No</td>\n",
       "      <td>31.0</td>\n",
       "    </tr>\n",
       "    <tr>\n",
       "      <th>2</th>\n",
       "      <td>CUS0x68c1</td>\n",
       "      <td>181.0</td>\n",
       "      <td>2</td>\n",
       "      <td>729.08</td>\n",
       "      <td>297.79</td>\n",
       "      <td>2690.0</td>\n",
       "      <td>44.000000</td>\n",
       "      <td>4</td>\n",
       "      <td>3.0</td>\n",
       "      <td>4</td>\n",
       "      <td>152.0</td>\n",
       "      <td>245</td>\n",
       "      <td>No</td>\n",
       "      <td>43.0</td>\n",
       "    </tr>\n",
       "    <tr>\n",
       "      <th>3</th>\n",
       "      <td>CUS0x1c6e</td>\n",
       "      <td>196.0</td>\n",
       "      <td>4</td>\n",
       "      <td>1558.58</td>\n",
       "      <td>102.92</td>\n",
       "      <td>1423.0</td>\n",
       "      <td>49.000000</td>\n",
       "      <td>4</td>\n",
       "      <td>3.0</td>\n",
       "      <td>3</td>\n",
       "      <td>85.0</td>\n",
       "      <td>302</td>\n",
       "      <td>No</td>\n",
       "      <td>41.0</td>\n",
       "    </tr>\n",
       "    <tr>\n",
       "      <th>4</th>\n",
       "      <td>CUS0x286f</td>\n",
       "      <td>211.0</td>\n",
       "      <td>5</td>\n",
       "      <td>1260.48</td>\n",
       "      <td>291.54</td>\n",
       "      <td>1031.0</td>\n",
       "      <td>43.000000</td>\n",
       "      <td>4</td>\n",
       "      <td>3.0</td>\n",
       "      <td>4</td>\n",
       "      <td>120.0</td>\n",
       "      <td>306</td>\n",
       "      <td>No</td>\n",
       "      <td>48.0</td>\n",
       "    </tr>\n",
       "  </tbody>\n",
       "</table>\n",
       "</div>"
      ],
      "text/plain": [
       "  Customer_ID  No_of_orders_placed  Category_of_customers  Maximum_bill  \\\n",
       "0   CUS0x4c0d                 99.0                      2       1549.05   \n",
       "1   CUS0x7d45                  5.0                      2       3682.21   \n",
       "2   CUS0x68c1                181.0                      2        729.08   \n",
       "3   CUS0x1c6e                196.0                      4       1558.58   \n",
       "4   CUS0x286f                211.0                      5       1260.48   \n",
       "\n",
       "   Minimum_bill  Last_order_placed_date  No_of_issues_raised  Customer_rating  \\\n",
       "0         79.00                  3024.0            28.192436                3   \n",
       "1        124.69                  2995.0             5.000000                4   \n",
       "2        297.79                  2690.0            44.000000                4   \n",
       "3        102.92                  1423.0            49.000000                4   \n",
       "4        291.54                  1031.0            43.000000                4   \n",
       "\n",
       "   Average_food_rating  Average_happiness_rating  Coupon_consumption_status  \\\n",
       "0                  4.0                         3                       99.0   \n",
       "1                  4.0                         4                        5.0   \n",
       "2                  3.0                         4                      152.0   \n",
       "3                  3.0                         3                       85.0   \n",
       "4                  3.0                         4                      120.0   \n",
       "\n",
       "   Coupons_offered Premium_membership  Discount_percentage  \n",
       "0              119                 No                 33.0  \n",
       "1               18                 No                 31.0  \n",
       "2              245                 No                 43.0  \n",
       "3              302                 No                 41.0  \n",
       "4              306                 No                 48.0  "
      ]
     },
     "execution_count": 42,
     "metadata": {},
     "output_type": "execute_result"
    }
   ],
   "source": [
    "df.head()"
   ]
  },
  {
   "cell_type": "code",
   "execution_count": 43,
   "id": "587c55f0",
   "metadata": {},
   "outputs": [
    {
     "data": {
      "text/plain": [
       "No     14934\n",
       "Yes     3694\n",
       "0       1110\n",
       "Name: Premium_membership, dtype: int64"
      ]
     },
     "execution_count": 43,
     "metadata": {},
     "output_type": "execute_result"
    }
   ],
   "source": [
    "df['Premium_membership'].value_counts()"
   ]
  },
  {
   "cell_type": "code",
   "execution_count": 44,
   "id": "e6a990d3",
   "metadata": {},
   "outputs": [],
   "source": [
    "label_encoding_mapping_PM = {\n",
    "    \"Yes\": 3, \"No\": 1, \"0\":2 \n",
    "}\n",
    "df['Premium_membership'] = df['Premium_membership'].map(label_encoding_mapping_PM)"
   ]
  },
  {
   "cell_type": "code",
   "execution_count": 45,
   "id": "25027205",
   "metadata": {},
   "outputs": [
    {
     "data": {
      "text/html": [
       "<div>\n",
       "<style scoped>\n",
       "    .dataframe tbody tr th:only-of-type {\n",
       "        vertical-align: middle;\n",
       "    }\n",
       "\n",
       "    .dataframe tbody tr th {\n",
       "        vertical-align: top;\n",
       "    }\n",
       "\n",
       "    .dataframe thead th {\n",
       "        text-align: right;\n",
       "    }\n",
       "</style>\n",
       "<table border=\"1\" class=\"dataframe\">\n",
       "  <thead>\n",
       "    <tr style=\"text-align: right;\">\n",
       "      <th></th>\n",
       "      <th>Customer_ID</th>\n",
       "      <th>No_of_orders_placed</th>\n",
       "      <th>Category_of_customers</th>\n",
       "      <th>Maximum_bill</th>\n",
       "      <th>Minimum_bill</th>\n",
       "      <th>Last_order_placed_date</th>\n",
       "      <th>No_of_issues_raised</th>\n",
       "      <th>Customer_rating</th>\n",
       "      <th>Average_food_rating</th>\n",
       "      <th>Average_happiness_rating</th>\n",
       "      <th>Coupon_consumption_status</th>\n",
       "      <th>Coupons_offered</th>\n",
       "      <th>Premium_membership</th>\n",
       "      <th>Discount_percentage</th>\n",
       "    </tr>\n",
       "  </thead>\n",
       "  <tbody>\n",
       "    <tr>\n",
       "      <th>0</th>\n",
       "      <td>CUS0x4c0d</td>\n",
       "      <td>99.0</td>\n",
       "      <td>2</td>\n",
       "      <td>1549.05</td>\n",
       "      <td>79.00</td>\n",
       "      <td>3024.0</td>\n",
       "      <td>28.192436</td>\n",
       "      <td>3</td>\n",
       "      <td>4.0</td>\n",
       "      <td>3</td>\n",
       "      <td>99.0</td>\n",
       "      <td>119</td>\n",
       "      <td>1</td>\n",
       "      <td>33.0</td>\n",
       "    </tr>\n",
       "    <tr>\n",
       "      <th>1</th>\n",
       "      <td>CUS0x7d45</td>\n",
       "      <td>5.0</td>\n",
       "      <td>2</td>\n",
       "      <td>3682.21</td>\n",
       "      <td>124.69</td>\n",
       "      <td>2995.0</td>\n",
       "      <td>5.000000</td>\n",
       "      <td>4</td>\n",
       "      <td>4.0</td>\n",
       "      <td>4</td>\n",
       "      <td>5.0</td>\n",
       "      <td>18</td>\n",
       "      <td>1</td>\n",
       "      <td>31.0</td>\n",
       "    </tr>\n",
       "    <tr>\n",
       "      <th>2</th>\n",
       "      <td>CUS0x68c1</td>\n",
       "      <td>181.0</td>\n",
       "      <td>2</td>\n",
       "      <td>729.08</td>\n",
       "      <td>297.79</td>\n",
       "      <td>2690.0</td>\n",
       "      <td>44.000000</td>\n",
       "      <td>4</td>\n",
       "      <td>3.0</td>\n",
       "      <td>4</td>\n",
       "      <td>152.0</td>\n",
       "      <td>245</td>\n",
       "      <td>1</td>\n",
       "      <td>43.0</td>\n",
       "    </tr>\n",
       "    <tr>\n",
       "      <th>3</th>\n",
       "      <td>CUS0x1c6e</td>\n",
       "      <td>196.0</td>\n",
       "      <td>4</td>\n",
       "      <td>1558.58</td>\n",
       "      <td>102.92</td>\n",
       "      <td>1423.0</td>\n",
       "      <td>49.000000</td>\n",
       "      <td>4</td>\n",
       "      <td>3.0</td>\n",
       "      <td>3</td>\n",
       "      <td>85.0</td>\n",
       "      <td>302</td>\n",
       "      <td>1</td>\n",
       "      <td>41.0</td>\n",
       "    </tr>\n",
       "    <tr>\n",
       "      <th>4</th>\n",
       "      <td>CUS0x286f</td>\n",
       "      <td>211.0</td>\n",
       "      <td>5</td>\n",
       "      <td>1260.48</td>\n",
       "      <td>291.54</td>\n",
       "      <td>1031.0</td>\n",
       "      <td>43.000000</td>\n",
       "      <td>4</td>\n",
       "      <td>3.0</td>\n",
       "      <td>4</td>\n",
       "      <td>120.0</td>\n",
       "      <td>306</td>\n",
       "      <td>1</td>\n",
       "      <td>48.0</td>\n",
       "    </tr>\n",
       "  </tbody>\n",
       "</table>\n",
       "</div>"
      ],
      "text/plain": [
       "  Customer_ID  No_of_orders_placed  Category_of_customers  Maximum_bill  \\\n",
       "0   CUS0x4c0d                 99.0                      2       1549.05   \n",
       "1   CUS0x7d45                  5.0                      2       3682.21   \n",
       "2   CUS0x68c1                181.0                      2        729.08   \n",
       "3   CUS0x1c6e                196.0                      4       1558.58   \n",
       "4   CUS0x286f                211.0                      5       1260.48   \n",
       "\n",
       "   Minimum_bill  Last_order_placed_date  No_of_issues_raised  Customer_rating  \\\n",
       "0         79.00                  3024.0            28.192436                3   \n",
       "1        124.69                  2995.0             5.000000                4   \n",
       "2        297.79                  2690.0            44.000000                4   \n",
       "3        102.92                  1423.0            49.000000                4   \n",
       "4        291.54                  1031.0            43.000000                4   \n",
       "\n",
       "   Average_food_rating  Average_happiness_rating  Coupon_consumption_status  \\\n",
       "0                  4.0                         3                       99.0   \n",
       "1                  4.0                         4                        5.0   \n",
       "2                  3.0                         4                      152.0   \n",
       "3                  3.0                         3                       85.0   \n",
       "4                  3.0                         4                      120.0   \n",
       "\n",
       "   Coupons_offered  Premium_membership  Discount_percentage  \n",
       "0              119                   1                 33.0  \n",
       "1               18                   1                 31.0  \n",
       "2              245                   1                 43.0  \n",
       "3              302                   1                 41.0  \n",
       "4              306                   1                 48.0  "
      ]
     },
     "execution_count": 45,
     "metadata": {},
     "output_type": "execute_result"
    }
   ],
   "source": [
    "df.head()"
   ]
  },
  {
   "cell_type": "code",
   "execution_count": 46,
   "id": "e45eae81",
   "metadata": {},
   "outputs": [
    {
     "name": "stdout",
     "output_type": "stream",
     "text": [
      "<class 'pandas.core.frame.DataFrame'>\n",
      "Int64Index: 19738 entries, 0 to 19977\n",
      "Data columns (total 14 columns):\n",
      " #   Column                     Non-Null Count  Dtype  \n",
      "---  ------                     --------------  -----  \n",
      " 0   Customer_ID                19738 non-null  object \n",
      " 1   No_of_orders_placed        19738 non-null  float64\n",
      " 2   Category_of_customers      19738 non-null  int64  \n",
      " 3   Maximum_bill               19738 non-null  float64\n",
      " 4   Minimum_bill               19738 non-null  float64\n",
      " 5   Last_order_placed_date     19738 non-null  float64\n",
      " 6   No_of_issues_raised        19738 non-null  float64\n",
      " 7   Customer_rating            19738 non-null  int8   \n",
      " 8   Average_food_rating        19738 non-null  float64\n",
      " 9   Average_happiness_rating   19738 non-null  int64  \n",
      " 10  Coupon_consumption_status  19738 non-null  float64\n",
      " 11  Coupons_offered            19738 non-null  int64  \n",
      " 12  Premium_membership         19738 non-null  int64  \n",
      " 13  Discount_percentage        19738 non-null  float64\n",
      "dtypes: float64(8), int64(4), int8(1), object(1)\n",
      "memory usage: 2.1+ MB\n"
     ]
    }
   ],
   "source": [
    "df.info()"
   ]
  },
  {
   "cell_type": "code",
   "execution_count": 47,
   "id": "7f7f9cd0",
   "metadata": {},
   "outputs": [
    {
     "data": {
      "text/plain": [
       "Index(['Customer_ID', 'No_of_orders_placed', 'Category_of_customers',\n",
       "       'Maximum_bill', 'Minimum_bill', 'Last_order_placed_date',\n",
       "       'No_of_issues_raised', 'Customer_rating', 'Average_food_rating',\n",
       "       'Average_happiness_rating', 'Coupon_consumption_status',\n",
       "       'Coupons_offered', 'Premium_membership', 'Discount_percentage'],\n",
       "      dtype='object')"
      ]
     },
     "execution_count": 47,
     "metadata": {},
     "output_type": "execute_result"
    }
   ],
   "source": [
    "df.columns"
   ]
  },
  {
   "cell_type": "code",
   "execution_count": 48,
   "id": "f94daa65",
   "metadata": {},
   "outputs": [
    {
     "data": {
      "image/png": "[encoded data removed]",
      "text/plain": [
       "<Figure size 640x480 with 1 Axes>"
      ]
     },
     "metadata": {},
     "output_type": "display_data"
    }
   ],
   "source": [
    "feature_to_analyze = 'No_of_orders_placed'\n",
    "\n",
    "# Create a scatter plot\n",
    "plt.scatter(df.index, df[feature_to_analyze])\n",
    "plt.xlabel('Index')\n",
    "plt.ylabel(feature_to_analyze)\n",
    "plt.title(f'Scatter Plot of {feature_to_analyze}')\n",
    "plt.show()"
   ]
  },
  {
   "cell_type": "code",
   "execution_count": 49,
   "id": "f413672a",
   "metadata": {},
   "outputs": [
    {
     "data": {
      "image/png": "[encoded data removed]",
      "text/plain": [
       "<Figure size 640x480 with 1 Axes>"
      ]
     },
     "metadata": {},
     "output_type": "display_data"
    }
   ],
   "source": [
    "feature_to_analyze = 'Maximum_bill'\n",
    "\n",
    "# Create a scatter plot\n",
    "plt.scatter(df.index, df[feature_to_analyze])\n",
    "plt.xlabel('Index')\n",
    "plt.ylabel(feature_to_analyze)\n",
    "plt.title(f'Scatter Plot of {feature_to_analyze}')\n",
    "plt.show()"
   ]
  },
  {
   "cell_type": "code",
   "execution_count": 50,
   "id": "ad28aba2",
   "metadata": {},
   "outputs": [
    {
     "data": {
      "image/png": "[encoded data removed]",
      "text/plain": [
       "<Figure size 640x480 with 1 Axes>"
      ]
     },
     "metadata": {},
     "output_type": "display_data"
    }
   ],
   "source": [
    "feature_to_analyze = 'Minimum_bill'\n",
    "\n",
    "# Create a scatter plot\n",
    "plt.scatter(df.index, df[feature_to_analyze])\n",
    "plt.xlabel('Index')\n",
    "plt.ylabel(feature_to_analyze)\n",
    "plt.title(f'Scatter Plot of {feature_to_analyze}')\n",
    "plt.show()"
   ]
  },
  {
   "cell_type": "code",
   "execution_count": 51,
   "id": "712532e9",
   "metadata": {},
   "outputs": [],
   "source": [
    "# 1. Identify and remove outliers\n",
    "lower_bound = 90\n",
    "upper_bound = 390\n",
    "\n",
    "# 2. Handle outliers\n",
    "# You can handle outliers in several ways, such as replacing them with a specific value or imputing them.\n",
    "\n",
    "# Example: Replace outliers with the nearest bound\n",
    "df['Minimum_bill'] = df['Minimum_bill'].apply(lambda x: lower_bound if x < lower_bound else (upper_bound if x > upper_bound else x))"
   ]
  },
  {
   "cell_type": "code",
   "execution_count": 52,
   "id": "29d83e9b",
   "metadata": {},
   "outputs": [
    {
     "data": {
      "image/png": "[encoded data removed]",
      "text/plain": [
       "<Figure size 640x480 with 1 Axes>"
      ]
     },
     "metadata": {},
     "output_type": "display_data"
    }
   ],
   "source": [
    "feature_to_analyze = 'Minimum_bill'\n",
    "\n",
    "# Create a scatter plot\n",
    "plt.scatter(df.index, df[feature_to_analyze])\n",
    "plt.xlabel('Index')\n",
    "plt.ylabel(feature_to_analyze)\n",
    "plt.title(f'Scatter Plot of {feature_to_analyze}')\n",
    "plt.show()"
   ]
  },
  {
   "cell_type": "code",
   "execution_count": 53,
   "id": "b93ecf2f",
   "metadata": {},
   "outputs": [
    {
     "data": {
      "image/png": "[encoded data removed]",
      "text/plain": [
       "<Figure size 640x480 with 1 Axes>"
      ]
     },
     "metadata": {},
     "output_type": "display_data"
    }
   ],
   "source": [
    "feature_to_analyze = 'Last_order_placed_date'\n",
    "\n",
    "# Create a scatter plot\n",
    "plt.scatter(df.index, df[feature_to_analyze])\n",
    "plt.xlabel('Index')\n",
    "plt.ylabel(feature_to_analyze)\n",
    "plt.title(f'Scatter Plot of {feature_to_analyze}')\n",
    "plt.show()"
   ]
  },
  {
   "cell_type": "code",
   "execution_count": 54,
   "id": "abd14ed3",
   "metadata": {},
   "outputs": [
    {
     "data": {
      "image/png": "[encoded data removed]",
      "text/plain": [
       "<Figure size 640x480 with 1 Axes>"
      ]
     },
     "metadata": {},
     "output_type": "display_data"
    }
   ],
   "source": [
    "feature_to_analyze = 'No_of_issues_raised'\n",
    "\n",
    "# Create a scatter plot\n",
    "plt.scatter(df.index, df[feature_to_analyze])\n",
    "plt.xlabel('Index')\n",
    "plt.ylabel(feature_to_analyze)\n",
    "plt.title(f'Scatter Plot of {feature_to_analyze}')\n",
    "plt.show()"
   ]
  },
  {
   "cell_type": "code",
   "execution_count": 55,
   "id": "180cb474",
   "metadata": {},
   "outputs": [
    {
     "data": {
      "text/plain": [
       "Index(['Customer_ID', 'No_of_orders_placed', 'Category_of_customers',\n",
       "       'Maximum_bill', 'Minimum_bill', 'Last_order_placed_date',\n",
       "       'No_of_issues_raised', 'Customer_rating', 'Average_food_rating',\n",
       "       'Average_happiness_rating', 'Coupon_consumption_status',\n",
       "       'Coupons_offered', 'Premium_membership', 'Discount_percentage'],\n",
       "      dtype='object')"
      ]
     },
     "execution_count": 55,
     "metadata": {},
     "output_type": "execute_result"
    }
   ],
   "source": [
    "df.columns"
   ]
  },
  {
   "cell_type": "code",
   "execution_count": 56,
   "id": "4e6ec8d6",
   "metadata": {},
   "outputs": [
    {
     "data": {
      "image/png": "[encoded data removed]",
      "text/plain": [
       "<Figure size 640x480 with 1 Axes>"
      ]
     },
     "metadata": {},
     "output_type": "display_data"
    }
   ],
   "source": [
    "\n",
    "feature_to_analyze = 'Coupons_offered'\n",
    "\n",
    "# Create a scatter plot\n",
    "plt.scatter(df.index, df[feature_to_analyze])\n",
    "plt.xlabel('Index')\n",
    "plt.ylabel(feature_to_analyze)\n",
    "plt.title(f'Scatter Plot of {feature_to_analyze}')\n",
    "plt.show()"
   ]
  },
  {
   "cell_type": "code",
   "execution_count": 57,
   "id": "cdcccbe9",
   "metadata": {},
   "outputs": [
    {
     "name": "stdout",
     "output_type": "stream",
     "text": [
      "<class 'pandas.core.frame.DataFrame'>\n",
      "Int64Index: 19738 entries, 0 to 19977\n",
      "Data columns (total 14 columns):\n",
      " #   Column                     Non-Null Count  Dtype  \n",
      "---  ------                     --------------  -----  \n",
      " 0   Customer_ID                19738 non-null  object \n",
      " 1   No_of_orders_placed        19738 non-null  float64\n",
      " 2   Category_of_customers      19738 non-null  int64  \n",
      " 3   Maximum_bill               19738 non-null  float64\n",
      " 4   Minimum_bill               19738 non-null  float64\n",
      " 5   Last_order_placed_date     19738 non-null  float64\n",
      " 6   No_of_issues_raised        19738 non-null  float64\n",
      " 7   Customer_rating            19738 non-null  int8   \n",
      " 8   Average_food_rating        19738 non-null  float64\n",
      " 9   Average_happiness_rating   19738 non-null  int64  \n",
      " 10  Coupon_consumption_status  19738 non-null  float64\n",
      " 11  Coupons_offered            19738 non-null  int64  \n",
      " 12  Premium_membership         19738 non-null  int64  \n",
      " 13  Discount_percentage        19738 non-null  float64\n",
      "dtypes: float64(8), int64(4), int8(1), object(1)\n",
      "memory usage: 2.1+ MB\n"
     ]
    }
   ],
   "source": [
    "df.info()"
   ]
  },
  {
   "cell_type": "code",
   "execution_count": 58,
   "id": "af15c4f4",
   "metadata": {},
   "outputs": [
    {
     "data": {
      "text/plain": [
       "Customer_ID                  0\n",
       "No_of_orders_placed          0\n",
       "Category_of_customers        0\n",
       "Maximum_bill                 0\n",
       "Minimum_bill                 0\n",
       "Last_order_placed_date       0\n",
       "No_of_issues_raised          0\n",
       "Customer_rating              0\n",
       "Average_food_rating          0\n",
       "Average_happiness_rating     0\n",
       "Coupon_consumption_status    0\n",
       "Coupons_offered              0\n",
       "Premium_membership           0\n",
       "Discount_percentage          0\n",
       "dtype: int64"
      ]
     },
     "execution_count": 58,
     "metadata": {},
     "output_type": "execute_result"
    }
   ],
   "source": [
    "df.isnull().sum()"
   ]
  },
  {
   "cell_type": "code",
   "execution_count": 59,
   "id": "2656f25b",
   "metadata": {},
   "outputs": [
    {
     "data": {
      "text/html": [
       "<div>\n",
       "<style scoped>\n",
       "    .dataframe tbody tr th:only-of-type {\n",
       "        vertical-align: middle;\n",
       "    }\n",
       "\n",
       "    .dataframe tbody tr th {\n",
       "        vertical-align: top;\n",
       "    }\n",
       "\n",
       "    .dataframe thead th {\n",
       "        text-align: right;\n",
       "    }\n",
       "</style>\n",
       "<table border=\"1\" class=\"dataframe\">\n",
       "  <thead>\n",
       "    <tr style=\"text-align: right;\">\n",
       "      <th></th>\n",
       "      <th>Customer_ID</th>\n",
       "      <th>No_of_orders_placed</th>\n",
       "      <th>Category_of_customers</th>\n",
       "      <th>Maximum_bill</th>\n",
       "      <th>Minimum_bill</th>\n",
       "      <th>Last_order_placed_date</th>\n",
       "      <th>No_of_issues_raised</th>\n",
       "      <th>Customer_rating</th>\n",
       "      <th>Average_food_rating</th>\n",
       "      <th>Average_happiness_rating</th>\n",
       "      <th>Coupon_consumption_status</th>\n",
       "      <th>Coupons_offered</th>\n",
       "      <th>Premium_membership</th>\n",
       "      <th>Discount_percentage</th>\n",
       "    </tr>\n",
       "  </thead>\n",
       "  <tbody>\n",
       "    <tr>\n",
       "      <th>0</th>\n",
       "      <td>CUS0x4c0d</td>\n",
       "      <td>99.0</td>\n",
       "      <td>2</td>\n",
       "      <td>1549.05</td>\n",
       "      <td>90.00</td>\n",
       "      <td>3024.0</td>\n",
       "      <td>28.192436</td>\n",
       "      <td>3</td>\n",
       "      <td>4.0</td>\n",
       "      <td>3</td>\n",
       "      <td>99.0</td>\n",
       "      <td>119</td>\n",
       "      <td>1</td>\n",
       "      <td>33.0</td>\n",
       "    </tr>\n",
       "    <tr>\n",
       "      <th>1</th>\n",
       "      <td>CUS0x7d45</td>\n",
       "      <td>5.0</td>\n",
       "      <td>2</td>\n",
       "      <td>3682.21</td>\n",
       "      <td>124.69</td>\n",
       "      <td>2995.0</td>\n",
       "      <td>5.000000</td>\n",
       "      <td>4</td>\n",
       "      <td>4.0</td>\n",
       "      <td>4</td>\n",
       "      <td>5.0</td>\n",
       "      <td>18</td>\n",
       "      <td>1</td>\n",
       "      <td>31.0</td>\n",
       "    </tr>\n",
       "    <tr>\n",
       "      <th>2</th>\n",
       "      <td>CUS0x68c1</td>\n",
       "      <td>181.0</td>\n",
       "      <td>2</td>\n",
       "      <td>729.08</td>\n",
       "      <td>297.79</td>\n",
       "      <td>2690.0</td>\n",
       "      <td>44.000000</td>\n",
       "      <td>4</td>\n",
       "      <td>3.0</td>\n",
       "      <td>4</td>\n",
       "      <td>152.0</td>\n",
       "      <td>245</td>\n",
       "      <td>1</td>\n",
       "      <td>43.0</td>\n",
       "    </tr>\n",
       "    <tr>\n",
       "      <th>3</th>\n",
       "      <td>CUS0x1c6e</td>\n",
       "      <td>196.0</td>\n",
       "      <td>4</td>\n",
       "      <td>1558.58</td>\n",
       "      <td>102.92</td>\n",
       "      <td>1423.0</td>\n",
       "      <td>49.000000</td>\n",
       "      <td>4</td>\n",
       "      <td>3.0</td>\n",
       "      <td>3</td>\n",
       "      <td>85.0</td>\n",
       "      <td>302</td>\n",
       "      <td>1</td>\n",
       "      <td>41.0</td>\n",
       "    </tr>\n",
       "    <tr>\n",
       "      <th>4</th>\n",
       "      <td>CUS0x286f</td>\n",
       "      <td>211.0</td>\n",
       "      <td>5</td>\n",
       "      <td>1260.48</td>\n",
       "      <td>291.54</td>\n",
       "      <td>1031.0</td>\n",
       "      <td>43.000000</td>\n",
       "      <td>4</td>\n",
       "      <td>3.0</td>\n",
       "      <td>4</td>\n",
       "      <td>120.0</td>\n",
       "      <td>306</td>\n",
       "      <td>1</td>\n",
       "      <td>48.0</td>\n",
       "    </tr>\n",
       "  </tbody>\n",
       "</table>\n",
       "</div>"
      ],
      "text/plain": [
       "  Customer_ID  No_of_orders_placed  Category_of_customers  Maximum_bill  \\\n",
       "0   CUS0x4c0d                 99.0                      2       1549.05   \n",
       "1   CUS0x7d45                  5.0                      2       3682.21   \n",
       "2   CUS0x68c1                181.0                      2        729.08   \n",
       "3   CUS0x1c6e                196.0                      4       1558.58   \n",
       "4   CUS0x286f                211.0                      5       1260.48   \n",
       "\n",
       "   Minimum_bill  Last_order_placed_date  No_of_issues_raised  Customer_rating  \\\n",
       "0         90.00                  3024.0            28.192436                3   \n",
       "1        124.69                  2995.0             5.000000                4   \n",
       "2        297.79                  2690.0            44.000000                4   \n",
       "3        102.92                  1423.0            49.000000                4   \n",
       "4        291.54                  1031.0            43.000000                4   \n",
       "\n",
       "   Average_food_rating  Average_happiness_rating  Coupon_consumption_status  \\\n",
       "0                  4.0                         3                       99.0   \n",
       "1                  4.0                         4                        5.0   \n",
       "2                  3.0                         4                      152.0   \n",
       "3                  3.0                         3                       85.0   \n",
       "4                  3.0                         4                      120.0   \n",
       "\n",
       "   Coupons_offered  Premium_membership  Discount_percentage  \n",
       "0              119                   1                 33.0  \n",
       "1               18                   1                 31.0  \n",
       "2              245                   1                 43.0  \n",
       "3              302                   1                 41.0  \n",
       "4              306                   1                 48.0  "
      ]
     },
     "execution_count": 59,
     "metadata": {},
     "output_type": "execute_result"
    }
   ],
   "source": [
    "df.head()"
   ]
  },
  {
   "cell_type": "code",
   "execution_count": 60,
   "id": "fc46af54",
   "metadata": {},
   "outputs": [],
   "source": [
    "X = df.drop(columns=['Customer_ID','Discount_percentage'])\n",
    "y = df['Discount_percentage']\n",
    "\n",
    "from sklearn.model_selection import train_test_split\n",
    "from sklearn.neighbors import KNeighborsRegressor\n",
    "from sklearn.naive_bayes import GaussianNB\n",
    "from sklearn.svm import SVR\n",
    "from sklearn.tree import DecisionTreeRegressor\n",
    "from sklearn.ensemble import RandomForestRegressor\n",
    "from sklearn.metrics import mean_squared_error, r2_score\n",
    "\n",
    "# Split the data into training and test sets\n",
    "X_train, X_test, y_train, y_test = train_test_split(X, y, test_size=0.2, random_state=42)"
   ]
  },
  {
   "cell_type": "code",
   "execution_count": 61,
   "id": "2c569867",
   "metadata": {},
   "outputs": [
    {
     "data": {
      "text/html": [
       "<div>\n",
       "<style scoped>\n",
       "    .dataframe tbody tr th:only-of-type {\n",
       "        vertical-align: middle;\n",
       "    }\n",
       "\n",
       "    .dataframe tbody tr th {\n",
       "        vertical-align: top;\n",
       "    }\n",
       "\n",
       "    .dataframe thead th {\n",
       "        text-align: right;\n",
       "    }\n",
       "</style>\n",
       "<table border=\"1\" class=\"dataframe\">\n",
       "  <thead>\n",
       "    <tr style=\"text-align: right;\">\n",
       "      <th></th>\n",
       "      <th>No_of_orders_placed</th>\n",
       "      <th>Category_of_customers</th>\n",
       "      <th>Maximum_bill</th>\n",
       "      <th>Minimum_bill</th>\n",
       "      <th>Last_order_placed_date</th>\n",
       "      <th>No_of_issues_raised</th>\n",
       "      <th>Customer_rating</th>\n",
       "      <th>Average_food_rating</th>\n",
       "      <th>Average_happiness_rating</th>\n",
       "      <th>Coupon_consumption_status</th>\n",
       "      <th>Coupons_offered</th>\n",
       "      <th>Premium_membership</th>\n",
       "    </tr>\n",
       "  </thead>\n",
       "  <tbody>\n",
       "    <tr>\n",
       "      <th>2148</th>\n",
       "      <td>244.000000</td>\n",
       "      <td>4</td>\n",
       "      <td>1955.98</td>\n",
       "      <td>280.65</td>\n",
       "      <td>1665.000000</td>\n",
       "      <td>18.0</td>\n",
       "      <td>4</td>\n",
       "      <td>4.0</td>\n",
       "      <td>3</td>\n",
       "      <td>163.0</td>\n",
       "      <td>338</td>\n",
       "      <td>3</td>\n",
       "    </tr>\n",
       "    <tr>\n",
       "      <th>11420</th>\n",
       "      <td>180.000000</td>\n",
       "      <td>2</td>\n",
       "      <td>1667.30</td>\n",
       "      <td>196.95</td>\n",
       "      <td>2136.000000</td>\n",
       "      <td>54.0</td>\n",
       "      <td>5</td>\n",
       "      <td>3.0</td>\n",
       "      <td>5</td>\n",
       "      <td>20.0</td>\n",
       "      <td>242</td>\n",
       "      <td>1</td>\n",
       "    </tr>\n",
       "    <tr>\n",
       "      <th>3315</th>\n",
       "      <td>85.000000</td>\n",
       "      <td>5</td>\n",
       "      <td>2000.17</td>\n",
       "      <td>287.00</td>\n",
       "      <td>948.000000</td>\n",
       "      <td>36.0</td>\n",
       "      <td>4</td>\n",
       "      <td>3.0</td>\n",
       "      <td>3</td>\n",
       "      <td>55.0</td>\n",
       "      <td>103</td>\n",
       "      <td>1</td>\n",
       "    </tr>\n",
       "    <tr>\n",
       "      <th>16595</th>\n",
       "      <td>149.000000</td>\n",
       "      <td>4</td>\n",
       "      <td>2961.20</td>\n",
       "      <td>205.32</td>\n",
       "      <td>1659.000000</td>\n",
       "      <td>41.0</td>\n",
       "      <td>5</td>\n",
       "      <td>3.0</td>\n",
       "      <td>3</td>\n",
       "      <td>111.0</td>\n",
       "      <td>240</td>\n",
       "      <td>1</td>\n",
       "    </tr>\n",
       "    <tr>\n",
       "      <th>8951</th>\n",
       "      <td>127.566846</td>\n",
       "      <td>2</td>\n",
       "      <td>1599.68</td>\n",
       "      <td>127.00</td>\n",
       "      <td>1985.987181</td>\n",
       "      <td>3.0</td>\n",
       "      <td>4</td>\n",
       "      <td>5.0</td>\n",
       "      <td>4</td>\n",
       "      <td>90.0</td>\n",
       "      <td>118</td>\n",
       "      <td>1</td>\n",
       "    </tr>\n",
       "  </tbody>\n",
       "</table>\n",
       "</div>"
      ],
      "text/plain": [
       "       No_of_orders_placed  Category_of_customers  Maximum_bill  Minimum_bill  \\\n",
       "2148            244.000000                      4       1955.98        280.65   \n",
       "11420           180.000000                      2       1667.30        196.95   \n",
       "3315             85.000000                      5       2000.17        287.00   \n",
       "16595           149.000000                      4       2961.20        205.32   \n",
       "8951            127.566846                      2       1599.68        127.00   \n",
       "\n",
       "       Last_order_placed_date  No_of_issues_raised  Customer_rating  \\\n",
       "2148              1665.000000                 18.0                4   \n",
       "11420             2136.000000                 54.0                5   \n",
       "3315               948.000000                 36.0                4   \n",
       "16595             1659.000000                 41.0                5   \n",
       "8951              1985.987181                  3.0                4   \n",
       "\n",
       "       Average_food_rating  Average_happiness_rating  \\\n",
       "2148                   4.0                         3   \n",
       "11420                  3.0                         5   \n",
       "3315                   3.0                         3   \n",
       "16595                  3.0                         3   \n",
       "8951                   5.0                         4   \n",
       "\n",
       "       Coupon_consumption_status  Coupons_offered  Premium_membership  \n",
       "2148                       163.0              338                   3  \n",
       "11420                       20.0              242                   1  \n",
       "3315                        55.0              103                   1  \n",
       "16595                      111.0              240                   1  \n",
       "8951                        90.0              118                   1  "
      ]
     },
     "execution_count": 61,
     "metadata": {},
     "output_type": "execute_result"
    }
   ],
   "source": [
    "X_train.head()"
   ]
  },
  {
   "cell_type": "code",
   "execution_count": 62,
   "id": "7170f65b",
   "metadata": {},
   "outputs": [
    {
     "data": {
      "text/plain": [
       "Customer_ID                  0\n",
       "No_of_orders_placed          0\n",
       "Category_of_customers        0\n",
       "Maximum_bill                 0\n",
       "Minimum_bill                 0\n",
       "Last_order_placed_date       0\n",
       "No_of_issues_raised          0\n",
       "Customer_rating              0\n",
       "Average_food_rating          0\n",
       "Average_happiness_rating     0\n",
       "Coupon_consumption_status    0\n",
       "Coupons_offered              0\n",
       "Premium_membership           0\n",
       "Discount_percentage          0\n",
       "dtype: int64"
      ]
     },
     "execution_count": 62,
     "metadata": {},
     "output_type": "execute_result"
    }
   ],
   "source": [
    "df.isnull().sum()"
   ]
  },
  {
   "cell_type": "code",
   "execution_count": 63,
   "id": "8256296f",
   "metadata": {},
   "outputs": [
    {
     "data": {
      "text/plain": [
       "No_of_orders_placed          0\n",
       "Category_of_customers        0\n",
       "Maximum_bill                 0\n",
       "Minimum_bill                 0\n",
       "Last_order_placed_date       0\n",
       "No_of_issues_raised          0\n",
       "Customer_rating              0\n",
       "Average_food_rating          0\n",
       "Average_happiness_rating     0\n",
       "Coupon_consumption_status    0\n",
       "Coupons_offered              0\n",
       "Premium_membership           0\n",
       "dtype: int64"
      ]
     },
     "execution_count": 63,
     "metadata": {},
     "output_type": "execute_result"
    }
   ],
   "source": [
    "X_train.isnull().sum()"
   ]
  },
  {
   "cell_type": "code",
   "execution_count": null,
   "id": "711dc8ab",
   "metadata": {},
   "outputs": [],
   "source": []
  },
  {
   "cell_type": "code",
   "execution_count": 64,
   "id": "96a46dab",
   "metadata": {},
   "outputs": [
    {
     "name": "stdout",
     "output_type": "stream",
     "text": [
      "Model: K-Nearest Neighbors\n",
      "Mean Squared Error (MSE): 238.44762917933133\n",
      "R-squared (R2) Score: -0.10732150782729177\n",
      "\n",
      "Model: Support Vector Machine\n",
      "Mean Squared Error (MSE): 195.09639994560402\n",
      "R-squared (R2) Score: 0.09399627707362213\n",
      "\n",
      "Model: Decision Tree\n",
      "Mean Squared Error (MSE): 568.5894123606889\n",
      "R-squared (R2) Score: -1.6404594065238314\n",
      "\n",
      "Model: Random Forest\n",
      "Mean Squared Error (MSE): 189.77978528368794\n",
      "R-squared (R2) Score: 0.11868598266738994\n",
      "\n"
     ]
    }
   ],
   "source": [
    "# Create a list of models to compare\n",
    "models = {\n",
    "    \"K-Nearest Neighbors\": KNeighborsRegressor(),\n",
    "    \"Support Vector Machine\": SVR(),\n",
    "    \"Decision Tree\": DecisionTreeRegressor(),\n",
    "    \"Random Forest\": RandomForestRegressor()\n",
    "}\n",
    "\n",
    "# Fit and evaluate each model\n",
    "for name, model in models.items():\n",
    "    model.fit(X_train, y_train)\n",
    "    y_pred = model.predict(X_test)\n",
    "    \n",
    "    mse = mean_squared_error(y_test, y_pred)\n",
    "    r2 = r2_score(y_test, y_pred)\n",
    "    \n",
    "    print(f\"Model: {name}\")\n",
    "    print(f\"Mean Squared Error (MSE): {mse}\")\n",
    "    print(f\"R-squared (R2) Score: {r2}\")\n",
    "    print(\"\")\n",
    "\n",
    "# You can also add other evaluation metrics such as RMSE, MAE, etc.\n"
   ]
  },
  {
   "cell_type": "code",
   "execution_count": 65,
   "id": "c27c3a3c",
   "metadata": {},
   "outputs": [
    {
     "name": "stdout",
     "output_type": "stream",
     "text": [
      "Model: Random Forest\n",
      "Mean Squared Error (MSE): 187.71657849544073\n",
      "R-squared (R2) Score: 0.12826726162405\n",
      "\n"
     ]
    }
   ],
   "source": [
    "model = RandomForestRegressor()\n",
    "model.fit(X_train, y_train)\n",
    "y_pred = model.predict(X_test)\n",
    "mse = mean_squared_error(y_test, y_pred)\n",
    "r2 = r2_score(y_test, y_pred)\n",
    "    \n",
    "print(f\"Model: {name}\")\n",
    "print(f\"Mean Squared Error (MSE): {mse}\")\n",
    "print(f\"R-squared (R2) Score: {r2}\")\n",
    "print(\"\")"
   ]
  },
  {
   "cell_type": "code",
   "execution_count": 66,
   "id": "66bb3564",
   "metadata": {},
   "outputs": [],
   "source": [
    "test_df = pd.read_csv('/Users/karthik_swasaka/Downloads/dataset 4/test.csv')"
   ]
  },
  {
   "cell_type": "code",
   "execution_count": 67,
   "id": "df639385",
   "metadata": {},
   "outputs": [
    {
     "data": {
      "text/html": [
       "<div>\n",
       "<style scoped>\n",
       "    .dataframe tbody tr th:only-of-type {\n",
       "        vertical-align: middle;\n",
       "    }\n",
       "\n",
       "    .dataframe tbody tr th {\n",
       "        vertical-align: top;\n",
       "    }\n",
       "\n",
       "    .dataframe thead th {\n",
       "        text-align: right;\n",
       "    }\n",
       "</style>\n",
       "<table border=\"1\" class=\"dataframe\">\n",
       "  <thead>\n",
       "    <tr style=\"text-align: right;\">\n",
       "      <th></th>\n",
       "      <th>Customer_ID</th>\n",
       "      <th>No_of_orders_placed</th>\n",
       "      <th>Category_of_customers</th>\n",
       "      <th>Maximum_bill</th>\n",
       "      <th>Minimum_bill</th>\n",
       "      <th>Last_order_placed_date</th>\n",
       "      <th>No_of_issues_raised</th>\n",
       "      <th>Customer_rating</th>\n",
       "      <th>Average_food_rating</th>\n",
       "      <th>Average_happiness_rating</th>\n",
       "      <th>Coupon_consumption_status</th>\n",
       "      <th>Coupons_offered</th>\n",
       "      <th>Premium_membership</th>\n",
       "    </tr>\n",
       "  </thead>\n",
       "  <tbody>\n",
       "    <tr>\n",
       "      <th>0</th>\n",
       "      <td>CUS0xfce</td>\n",
       "      <td>92.0</td>\n",
       "      <td>Active</td>\n",
       "      <td>1332.28</td>\n",
       "      <td>238.00</td>\n",
       "      <td>NaN</td>\n",
       "      <td>NaN</td>\n",
       "      <td>NaN</td>\n",
       "      <td>3.0</td>\n",
       "      <td>3</td>\n",
       "      <td>92.0</td>\n",
       "      <td>115</td>\n",
       "      <td>No</td>\n",
       "    </tr>\n",
       "    <tr>\n",
       "      <th>1</th>\n",
       "      <td>CUS0x52e0</td>\n",
       "      <td>197.0</td>\n",
       "      <td>Inactive</td>\n",
       "      <td>2058.34</td>\n",
       "      <td>230.51</td>\n",
       "      <td>02/15/2017 08:14 PM</td>\n",
       "      <td>4.0</td>\n",
       "      <td>5.0</td>\n",
       "      <td>3.0</td>\n",
       "      <td>4</td>\n",
       "      <td>31.0</td>\n",
       "      <td>297</td>\n",
       "      <td>No</td>\n",
       "    </tr>\n",
       "    <tr>\n",
       "      <th>2</th>\n",
       "      <td>CUS0x439c</td>\n",
       "      <td>94.0</td>\n",
       "      <td>Passive</td>\n",
       "      <td>2524.05</td>\n",
       "      <td>232.00</td>\n",
       "      <td>11/21/2019 03:01 AM</td>\n",
       "      <td>36.0</td>\n",
       "      <td>4.0</td>\n",
       "      <td>3.0</td>\n",
       "      <td>4</td>\n",
       "      <td>36.0</td>\n",
       "      <td>119</td>\n",
       "      <td>No</td>\n",
       "    </tr>\n",
       "    <tr>\n",
       "      <th>3</th>\n",
       "      <td>CUS0x7cdc</td>\n",
       "      <td>229.0</td>\n",
       "      <td>Passive</td>\n",
       "      <td>1258.67</td>\n",
       "      <td>266.03</td>\n",
       "      <td>03/24/2018 11:21 PM</td>\n",
       "      <td>12.0</td>\n",
       "      <td>2.0</td>\n",
       "      <td>5.0</td>\n",
       "      <td>4</td>\n",
       "      <td>168.0</td>\n",
       "      <td>337</td>\n",
       "      <td>No</td>\n",
       "    </tr>\n",
       "    <tr>\n",
       "      <th>4</th>\n",
       "      <td>CUS0x59eb</td>\n",
       "      <td>172.0</td>\n",
       "      <td>Passive</td>\n",
       "      <td>2033.03</td>\n",
       "      <td>141.95</td>\n",
       "      <td>08/21/2018 05:48 AM</td>\n",
       "      <td>31.0</td>\n",
       "      <td>4.0</td>\n",
       "      <td>4.0</td>\n",
       "      <td>3</td>\n",
       "      <td>64.0</td>\n",
       "      <td>224</td>\n",
       "      <td>No</td>\n",
       "    </tr>\n",
       "  </tbody>\n",
       "</table>\n",
       "</div>"
      ],
      "text/plain": [
       "  Customer_ID  No_of_orders_placed Category_of_customers  Maximum_bill  \\\n",
       "0    CUS0xfce                 92.0                Active       1332.28   \n",
       "1   CUS0x52e0                197.0              Inactive       2058.34   \n",
       "2   CUS0x439c                 94.0               Passive       2524.05   \n",
       "3   CUS0x7cdc                229.0               Passive       1258.67   \n",
       "4   CUS0x59eb                172.0               Passive       2033.03   \n",
       "\n",
       "   Minimum_bill Last_order_placed_date  No_of_issues_raised  Customer_rating  \\\n",
       "0        238.00                    NaN                  NaN              NaN   \n",
       "1        230.51    02/15/2017 08:14 PM                  4.0              5.0   \n",
       "2        232.00    11/21/2019 03:01 AM                 36.0              4.0   \n",
       "3        266.03    03/24/2018 11:21 PM                 12.0              2.0   \n",
       "4        141.95    08/21/2018 05:48 AM                 31.0              4.0   \n",
       "\n",
       "   Average_food_rating  Average_happiness_rating  Coupon_consumption_status  \\\n",
       "0                  3.0                         3                       92.0   \n",
       "1                  3.0                         4                       31.0   \n",
       "2                  3.0                         4                       36.0   \n",
       "3                  5.0                         4                      168.0   \n",
       "4                  4.0                         3                       64.0   \n",
       "\n",
       "   Coupons_offered Premium_membership  \n",
       "0              115                 No  \n",
       "1              297                 No  \n",
       "2              119                 No  \n",
       "3              337                 No  \n",
       "4              224                 No  "
      ]
     },
     "execution_count": 67,
     "metadata": {},
     "output_type": "execute_result"
    }
   ],
   "source": [
    "test_df.head()"
   ]
  },
  {
   "cell_type": "code",
   "execution_count": 68,
   "id": "705ac8cc",
   "metadata": {},
   "outputs": [],
   "source": [
    "mean_feature1 = test_df['No_of_orders_placed'].mean()\n",
    "test_df['No_of_orders_placed'].fillna(mean_feature1, inplace=True)\n",
    "\n",
    "mean_feature2 = test_df['Maximum_bill'].mean()\n",
    "test_df['Maximum_bill'].fillna(mean_feature2, inplace=True)\n",
    "\n",
    "mean_feature3 = test_df['No_of_issues_raised'].mean()\n",
    "test_df['No_of_issues_raised'].fillna(mean_feature3, inplace=True)\n",
    "\n",
    "mean_feature4 = test_df['Coupon_consumption_status'].mean()\n",
    "test_df['Coupon_consumption_status'].fillna(mean_feature4, inplace=True)"
   ]
  },
  {
   "cell_type": "code",
   "execution_count": 69,
   "id": "17c4d7a1",
   "metadata": {},
   "outputs": [],
   "source": [
    "test_df['Category_of_customers'].fillna(\"Missing\", inplace=True)\n",
    "test_df['Customer_rating'].fillna(0, inplace=True)\n",
    "test_df['Average_food_rating'].fillna(0, inplace=True)"
   ]
  },
  {
   "cell_type": "code",
   "execution_count": 70,
   "id": "1a672a5a",
   "metadata": {},
   "outputs": [],
   "source": [
    "import pandas as pd\n",
    "\n",
    "# Assuming your DataFrame is named 'df'\n",
    "test_df['Last_order_placed_date'] = pd.to_datetime(test_df['Last_order_placed_date'], format='%m/%d/%Y %I:%M %p')\n",
    "reference_date = pd.to_datetime('09/11/2023')\n",
    "test_df['Last_order_placed_date'] = (reference_date - test_df['Last_order_placed_date']).dt.days"
   ]
  },
  {
   "cell_type": "code",
   "execution_count": 71,
   "id": "20c092ff",
   "metadata": {},
   "outputs": [
    {
     "data": {
      "text/plain": [
       "Customer_ID                     0\n",
       "No_of_orders_placed             0\n",
       "Category_of_customers           0\n",
       "Maximum_bill                    0\n",
       "Minimum_bill                    0\n",
       "Last_order_placed_date       1401\n",
       "No_of_issues_raised             0\n",
       "Customer_rating                 0\n",
       "Average_food_rating             0\n",
       "Average_happiness_rating        0\n",
       "Coupon_consumption_status       0\n",
       "Coupons_offered                 0\n",
       "Premium_membership              0\n",
       "dtype: int64"
      ]
     },
     "execution_count": 71,
     "metadata": {},
     "output_type": "execute_result"
    }
   ],
   "source": [
    "test_df.isnull().sum()"
   ]
  },
  {
   "cell_type": "code",
   "execution_count": 72,
   "id": "c86ab2f9",
   "metadata": {},
   "outputs": [],
   "source": [
    "test_df['Last_order_placed_date'].fillna(test_df['Last_order_placed_date'].mean(), inplace=True)"
   ]
  },
  {
   "cell_type": "code",
   "execution_count": 73,
   "id": "28d3aa20",
   "metadata": {},
   "outputs": [],
   "source": [
    "test_label_encoding_mapping_COC = {\n",
    "    \"Active\": 5,  # Give more weightage to 5.0\n",
    "    \"Passive\": 4,\n",
    "    \"Missing\":3,\n",
    "    \"Inactive\":2,\n",
    "    \"0\":1 \n",
    "}\n",
    "\n",
    "test_df['Category_of_customers'] = test_df['Category_of_customers'].map(test_label_encoding_mapping_COC)"
   ]
  },
  {
   "cell_type": "code",
   "execution_count": 74,
   "id": "c9eb61d9",
   "metadata": {},
   "outputs": [
    {
     "name": "stdout",
     "output_type": "stream",
     "text": [
      "<class 'pandas.core.frame.DataFrame'>\n",
      "RangeIndex: 13319 entries, 0 to 13318\n",
      "Data columns (total 13 columns):\n",
      " #   Column                     Non-Null Count  Dtype  \n",
      "---  ------                     --------------  -----  \n",
      " 0   Customer_ID                13319 non-null  object \n",
      " 1   No_of_orders_placed        13319 non-null  float64\n",
      " 2   Category_of_customers      13319 non-null  int64  \n",
      " 3   Maximum_bill               13319 non-null  float64\n",
      " 4   Minimum_bill               13319 non-null  float64\n",
      " 5   Last_order_placed_date     13319 non-null  float64\n",
      " 6   No_of_issues_raised        13319 non-null  float64\n",
      " 7   Customer_rating            13319 non-null  float64\n",
      " 8   Average_food_rating        13319 non-null  float64\n",
      " 9   Average_happiness_rating   13319 non-null  int64  \n",
      " 10  Coupon_consumption_status  13319 non-null  float64\n",
      " 11  Coupons_offered            13319 non-null  int64  \n",
      " 12  Premium_membership         13319 non-null  object \n",
      "dtypes: float64(8), int64(3), object(2)\n",
      "memory usage: 1.3+ MB\n"
     ]
    }
   ],
   "source": [
    "test_df.info()"
   ]
  },
  {
   "cell_type": "code",
   "execution_count": 75,
   "id": "07981e30",
   "metadata": {},
   "outputs": [],
   "source": [
    "test_label_encoding_mapping_PM = {\n",
    "    \"Yes\": 3, \"No\": 1, \"0\":2 \n",
    "}\n",
    "test_df['Premium_membership'] = test_df['Premium_membership'].map(test_label_encoding_mapping_PM)"
   ]
  },
  {
   "cell_type": "code",
   "execution_count": 76,
   "id": "0a38fcc0",
   "metadata": {},
   "outputs": [],
   "source": [
    "# 1. Identify and remove outliers\n",
    "lower_bound = 90\n",
    "upper_bound = 390\n",
    "\n",
    "# 2. Handle outliers\n",
    "# You can handle outliers in several ways, such as replacing them with a specific value or imputing them.\n",
    "\n",
    "# Example: Replace outliers with the nearest bound\n",
    "test_df['Minimum_bill'] = test_df['Minimum_bill'].apply(lambda x: lower_bound if x < lower_bound else (upper_bound if x > upper_bound else x))"
   ]
  },
  {
   "cell_type": "code",
   "execution_count": 77,
   "id": "ca093422",
   "metadata": {},
   "outputs": [
    {
     "data": {
      "text/html": [
       "<div>\n",
       "<style scoped>\n",
       "    .dataframe tbody tr th:only-of-type {\n",
       "        vertical-align: middle;\n",
       "    }\n",
       "\n",
       "    .dataframe tbody tr th {\n",
       "        vertical-align: top;\n",
       "    }\n",
       "\n",
       "    .dataframe thead th {\n",
       "        text-align: right;\n",
       "    }\n",
       "</style>\n",
       "<table border=\"1\" class=\"dataframe\">\n",
       "  <thead>\n",
       "    <tr style=\"text-align: right;\">\n",
       "      <th></th>\n",
       "      <th>Customer_ID</th>\n",
       "      <th>No_of_orders_placed</th>\n",
       "      <th>Category_of_customers</th>\n",
       "      <th>Maximum_bill</th>\n",
       "      <th>Minimum_bill</th>\n",
       "      <th>Last_order_placed_date</th>\n",
       "      <th>No_of_issues_raised</th>\n",
       "      <th>Customer_rating</th>\n",
       "      <th>Average_food_rating</th>\n",
       "      <th>Average_happiness_rating</th>\n",
       "      <th>Coupon_consumption_status</th>\n",
       "      <th>Coupons_offered</th>\n",
       "      <th>Premium_membership</th>\n",
       "    </tr>\n",
       "  </thead>\n",
       "  <tbody>\n",
       "    <tr>\n",
       "      <th>0</th>\n",
       "      <td>CUS0xfce</td>\n",
       "      <td>92.0</td>\n",
       "      <td>5</td>\n",
       "      <td>1332.28</td>\n",
       "      <td>238.00</td>\n",
       "      <td>1988.44093</td>\n",
       "      <td>28.005164</td>\n",
       "      <td>0.0</td>\n",
       "      <td>3.0</td>\n",
       "      <td>3</td>\n",
       "      <td>92.0</td>\n",
       "      <td>115</td>\n",
       "      <td>1</td>\n",
       "    </tr>\n",
       "    <tr>\n",
       "      <th>1</th>\n",
       "      <td>CUS0x52e0</td>\n",
       "      <td>197.0</td>\n",
       "      <td>2</td>\n",
       "      <td>2058.34</td>\n",
       "      <td>230.51</td>\n",
       "      <td>2398.00000</td>\n",
       "      <td>4.000000</td>\n",
       "      <td>5.0</td>\n",
       "      <td>3.0</td>\n",
       "      <td>4</td>\n",
       "      <td>31.0</td>\n",
       "      <td>297</td>\n",
       "      <td>1</td>\n",
       "    </tr>\n",
       "    <tr>\n",
       "      <th>2</th>\n",
       "      <td>CUS0x439c</td>\n",
       "      <td>94.0</td>\n",
       "      <td>4</td>\n",
       "      <td>2524.05</td>\n",
       "      <td>232.00</td>\n",
       "      <td>1389.00000</td>\n",
       "      <td>36.000000</td>\n",
       "      <td>4.0</td>\n",
       "      <td>3.0</td>\n",
       "      <td>4</td>\n",
       "      <td>36.0</td>\n",
       "      <td>119</td>\n",
       "      <td>1</td>\n",
       "    </tr>\n",
       "    <tr>\n",
       "      <th>3</th>\n",
       "      <td>CUS0x7cdc</td>\n",
       "      <td>229.0</td>\n",
       "      <td>4</td>\n",
       "      <td>1258.67</td>\n",
       "      <td>266.03</td>\n",
       "      <td>1996.00000</td>\n",
       "      <td>12.000000</td>\n",
       "      <td>2.0</td>\n",
       "      <td>5.0</td>\n",
       "      <td>4</td>\n",
       "      <td>168.0</td>\n",
       "      <td>337</td>\n",
       "      <td>1</td>\n",
       "    </tr>\n",
       "    <tr>\n",
       "      <th>4</th>\n",
       "      <td>CUS0x59eb</td>\n",
       "      <td>172.0</td>\n",
       "      <td>4</td>\n",
       "      <td>2033.03</td>\n",
       "      <td>141.95</td>\n",
       "      <td>1846.00000</td>\n",
       "      <td>31.000000</td>\n",
       "      <td>4.0</td>\n",
       "      <td>4.0</td>\n",
       "      <td>3</td>\n",
       "      <td>64.0</td>\n",
       "      <td>224</td>\n",
       "      <td>1</td>\n",
       "    </tr>\n",
       "  </tbody>\n",
       "</table>\n",
       "</div>"
      ],
      "text/plain": [
       "  Customer_ID  No_of_orders_placed  Category_of_customers  Maximum_bill  \\\n",
       "0    CUS0xfce                 92.0                      5       1332.28   \n",
       "1   CUS0x52e0                197.0                      2       2058.34   \n",
       "2   CUS0x439c                 94.0                      4       2524.05   \n",
       "3   CUS0x7cdc                229.0                      4       1258.67   \n",
       "4   CUS0x59eb                172.0                      4       2033.03   \n",
       "\n",
       "   Minimum_bill  Last_order_placed_date  No_of_issues_raised  Customer_rating  \\\n",
       "0        238.00              1988.44093            28.005164              0.0   \n",
       "1        230.51              2398.00000             4.000000              5.0   \n",
       "2        232.00              1389.00000            36.000000              4.0   \n",
       "3        266.03              1996.00000            12.000000              2.0   \n",
       "4        141.95              1846.00000            31.000000              4.0   \n",
       "\n",
       "   Average_food_rating  Average_happiness_rating  Coupon_consumption_status  \\\n",
       "0                  3.0                         3                       92.0   \n",
       "1                  3.0                         4                       31.0   \n",
       "2                  3.0                         4                       36.0   \n",
       "3                  5.0                         4                      168.0   \n",
       "4                  4.0                         3                       64.0   \n",
       "\n",
       "   Coupons_offered  Premium_membership  \n",
       "0              115                   1  \n",
       "1              297                   1  \n",
       "2              119                   1  \n",
       "3              337                   1  \n",
       "4              224                   1  "
      ]
     },
     "execution_count": 77,
     "metadata": {},
     "output_type": "execute_result"
    }
   ],
   "source": [
    "test_df.head()"
   ]
  },
  {
   "cell_type": "code",
   "execution_count": 78,
   "id": "c49de00a",
   "metadata": {},
   "outputs": [
    {
     "name": "stdout",
     "output_type": "stream",
     "text": [
      "<class 'pandas.core.frame.DataFrame'>\n",
      "RangeIndex: 13319 entries, 0 to 13318\n",
      "Data columns (total 13 columns):\n",
      " #   Column                     Non-Null Count  Dtype  \n",
      "---  ------                     --------------  -----  \n",
      " 0   Customer_ID                13319 non-null  object \n",
      " 1   No_of_orders_placed        13319 non-null  float64\n",
      " 2   Category_of_customers      13319 non-null  int64  \n",
      " 3   Maximum_bill               13319 non-null  float64\n",
      " 4   Minimum_bill               13319 non-null  float64\n",
      " 5   Last_order_placed_date     13319 non-null  float64\n",
      " 6   No_of_issues_raised        13319 non-null  float64\n",
      " 7   Customer_rating            13319 non-null  float64\n",
      " 8   Average_food_rating        13319 non-null  float64\n",
      " 9   Average_happiness_rating   13319 non-null  int64  \n",
      " 10  Coupon_consumption_status  13319 non-null  float64\n",
      " 11  Coupons_offered            13319 non-null  int64  \n",
      " 12  Premium_membership         13319 non-null  int64  \n",
      "dtypes: float64(8), int64(4), object(1)\n",
      "memory usage: 1.3+ MB\n"
     ]
    }
   ],
   "source": [
    "test_df.info()"
   ]
  },
  {
   "cell_type": "code",
   "execution_count": 79,
   "id": "6315f2a4",
   "metadata": {},
   "outputs": [],
   "source": [
    "prediction = model.predict(test_df.drop(columns=['Customer_ID']))"
   ]
  },
  {
   "cell_type": "code",
   "execution_count": 80,
   "id": "118919b9",
   "metadata": {},
   "outputs": [
    {
     "data": {
      "text/html": [
       "<div>\n",
       "<style scoped>\n",
       "    .dataframe tbody tr th:only-of-type {\n",
       "        vertical-align: middle;\n",
       "    }\n",
       "\n",
       "    .dataframe tbody tr th {\n",
       "        vertical-align: top;\n",
       "    }\n",
       "\n",
       "    .dataframe thead th {\n",
       "        text-align: right;\n",
       "    }\n",
       "</style>\n",
       "<table border=\"1\" class=\"dataframe\">\n",
       "  <thead>\n",
       "    <tr style=\"text-align: right;\">\n",
       "      <th></th>\n",
       "      <th>Customer_ID</th>\n",
       "      <th>Discount_percentage</th>\n",
       "    </tr>\n",
       "  </thead>\n",
       "  <tbody>\n",
       "    <tr>\n",
       "      <th>0</th>\n",
       "      <td>CUS0xfce</td>\n",
       "      <td>41</td>\n",
       "    </tr>\n",
       "    <tr>\n",
       "      <th>1</th>\n",
       "      <td>CUS0x52e0</td>\n",
       "      <td>37</td>\n",
       "    </tr>\n",
       "    <tr>\n",
       "      <th>2</th>\n",
       "      <td>CUS0x439c</td>\n",
       "      <td>31</td>\n",
       "    </tr>\n",
       "    <tr>\n",
       "      <th>3</th>\n",
       "      <td>CUS0x7cdc</td>\n",
       "      <td>38</td>\n",
       "    </tr>\n",
       "    <tr>\n",
       "      <th>4</th>\n",
       "      <td>CUS0x59eb</td>\n",
       "      <td>38</td>\n",
       "    </tr>\n",
       "  </tbody>\n",
       "</table>\n",
       "</div>"
      ],
      "text/plain": [
       "  Customer_ID  Discount_percentage\n",
       "0    CUS0xfce                   41\n",
       "1   CUS0x52e0                   37\n",
       "2   CUS0x439c                   31\n",
       "3   CUS0x7cdc                   38\n",
       "4   CUS0x59eb                   38"
      ]
     },
     "execution_count": 80,
     "metadata": {},
     "output_type": "execute_result"
    }
   ],
   "source": [
    "# Create a DataFrame with 'ID' and 'Predictions' columns\n",
    "output_df = pd.DataFrame({'Customer_ID': test_df['Customer_ID'], 'Discount_percentage': prediction})\n",
    "\n",
    "# Assuming 'Discount_percentage' is the column you want to convert to int\n",
    "output_df['Discount_percentage'] = output_df['Discount_percentage'].astype(int)\n",
    "\n",
    "# Take the absolute value of 'Discount_percentage'\n",
    "output_df['Discount_percentage'] = output_df['Discount_percentage'].abs()\n",
    "\n",
    "# Display the output DataFrame\n",
    "output_df.head()\n"
   ]
  },
  {
   "cell_type": "code",
   "execution_count": 82,
   "id": "9a6ba972",
   "metadata": {},
   "outputs": [
    {
     "name": "stdout",
     "output_type": "stream",
     "text": [
      "DataFrame saved to Discount_Percentage_final2.csv\n"
     ]
    }
   ],
   "source": [
    "## Save the output DataFrame to a CSV file\n",
    "output_file = \"Discount_Percentage_final2.csv\"\n",
    "output_df.to_csv(output_file, index=False)\n",
    "\n",
    "print(f\"DataFrame saved to {output_file}\")"
   ]
  },
  {
   "cell_type": "code",
   "execution_count": null,
   "id": "8b3af7a6",
   "metadata": {},
   "outputs": [],
   "source": []
  },
  {
   "cell_type": "code",
   "execution_count": null,
   "id": "cb7e4666",
   "metadata": {},
   "outputs": [],
   "source": []
  }
 ],
 "metadata": {
  "kernelspec": {
   "display_name": "Python 3 (ipykernel)",
   "language": "python",
   "name": "python3"
  },
  "language_info": {
   "codemirror_mode": {
    "name": "ipython",
    "version": 3
   },
   "file_extension": ".py",
   "mimetype": "text/x-python",
   "name": "python",
   "nbconvert_exporter": "python",
   "pygments_lexer": "ipython3",
   "version": "3.10.9"
  }
 },
 "nbformat": 4,
 "nbformat_minor": 5
}
